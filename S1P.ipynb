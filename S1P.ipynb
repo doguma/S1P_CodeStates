{
  "nbformat": 4,
  "nbformat_minor": 0,
  "metadata": {
    "colab": {
      "name": "S1P.ipynb",
      "provenance": [],
      "authorship_tag": "ABX9TyOCt1QNmBxb07VF2DP49X3B",
      "include_colab_link": true
    },
    "kernelspec": {
      "name": "python3",
      "display_name": "Python 3"
    },
    "language_info": {
      "name": "python"
    }
  },
  "cells": [
    {
      "cell_type": "markdown",
      "metadata": {
        "id": "view-in-github",
        "colab_type": "text"
      },
      "source": [
        "<a href=\"https://colab.research.google.com/github/doguma/S1P_CodeStates/blob/main/S1P.ipynb\" target=\"_parent\"><img src=\"https://colab.research.google.com/assets/colab-badge.svg\" alt=\"Open In Colab\"/></a>"
      ]
    },
    {
      "cell_type": "markdown",
      "metadata": {
        "id": "TOVHP8ZXZLBx"
      },
      "source": [
        "\n",
        "\n",
        "## **Section 1 Project -  S1P** : Intro to DS\n",
        "\n",
        "# **\"다음 분기에는 어떤 게임을 설계해야 할까?\"**\n",
        "\n",
        "**Hannah Do (도현진)**\n",
        "\n",
        "July 29th, 2021\n",
        "\n",
        "\n"
      ]
    },
    {
      "cell_type": "markdown",
      "metadata": {
        "id": "vQS6a4oxa4n4"
      },
      "source": [
        "---"
      ]
    },
    {
      "cell_type": "markdown",
      "metadata": {
        "id": "59fHLp7Ft98Q"
      },
      "source": [
        "## **0. Data Preprocessing**\n"
      ]
    },
    {
      "cell_type": "code",
      "metadata": {
        "colab": {
          "base_uri": "https://localhost:8080/",
          "height": 204
        },
        "id": "lWkNAdhqZFsJ",
        "outputId": "441ef064-919b-4643-8ea2-7cc165e1d357"
      },
      "source": [
        "import pandas as pd\n",
        "import numpy as np\n",
        "\n",
        "df = pd.read_csv('https://ds-lecture-data.s3.ap-northeast-2.amazonaws.com/datasets/vgames2.csv')\n",
        "df.drop(['Unnamed: 0'], axis=1, inplace=True)\n",
        "df.head()"
      ],
      "execution_count": 1,
      "outputs": [
        {
          "output_type": "execute_result",
          "data": {
            "text/html": [
              "<div>\n",
              "<style scoped>\n",
              "    .dataframe tbody tr th:only-of-type {\n",
              "        vertical-align: middle;\n",
              "    }\n",
              "\n",
              "    .dataframe tbody tr th {\n",
              "        vertical-align: top;\n",
              "    }\n",
              "\n",
              "    .dataframe thead th {\n",
              "        text-align: right;\n",
              "    }\n",
              "</style>\n",
              "<table border=\"1\" class=\"dataframe\">\n",
              "  <thead>\n",
              "    <tr style=\"text-align: right;\">\n",
              "      <th></th>\n",
              "      <th>Name</th>\n",
              "      <th>Platform</th>\n",
              "      <th>Year</th>\n",
              "      <th>Genre</th>\n",
              "      <th>Publisher</th>\n",
              "      <th>NA_Sales</th>\n",
              "      <th>EU_Sales</th>\n",
              "      <th>JP_Sales</th>\n",
              "      <th>Other_Sales</th>\n",
              "    </tr>\n",
              "  </thead>\n",
              "  <tbody>\n",
              "    <tr>\n",
              "      <th>0</th>\n",
              "      <td>Candace Kane's Candy Factory</td>\n",
              "      <td>DS</td>\n",
              "      <td>2008.0</td>\n",
              "      <td>Action</td>\n",
              "      <td>Destineer</td>\n",
              "      <td>0.04</td>\n",
              "      <td>0</td>\n",
              "      <td>0</td>\n",
              "      <td>0</td>\n",
              "    </tr>\n",
              "    <tr>\n",
              "      <th>1</th>\n",
              "      <td>The Munchables</td>\n",
              "      <td>Wii</td>\n",
              "      <td>2009.0</td>\n",
              "      <td>Action</td>\n",
              "      <td>Namco Bandai Games</td>\n",
              "      <td>0.17</td>\n",
              "      <td>0</td>\n",
              "      <td>0</td>\n",
              "      <td>0.01</td>\n",
              "    </tr>\n",
              "    <tr>\n",
              "      <th>2</th>\n",
              "      <td>Otome wa Oanesama Boku ni Koi Shiteru Portable</td>\n",
              "      <td>PSP</td>\n",
              "      <td>2010.0</td>\n",
              "      <td>Adventure</td>\n",
              "      <td>Alchemist</td>\n",
              "      <td>0</td>\n",
              "      <td>0</td>\n",
              "      <td>0.02</td>\n",
              "      <td>0</td>\n",
              "    </tr>\n",
              "    <tr>\n",
              "      <th>3</th>\n",
              "      <td>Deal or No Deal: Special Edition</td>\n",
              "      <td>DS</td>\n",
              "      <td>2010.0</td>\n",
              "      <td>Misc</td>\n",
              "      <td>Zoo Games</td>\n",
              "      <td>0.04</td>\n",
              "      <td>0</td>\n",
              "      <td>0</td>\n",
              "      <td>0</td>\n",
              "    </tr>\n",
              "    <tr>\n",
              "      <th>4</th>\n",
              "      <td>Ben 10 Ultimate Alien: Cosmic Destruction</td>\n",
              "      <td>PS3</td>\n",
              "      <td>2010.0</td>\n",
              "      <td>Platform</td>\n",
              "      <td>D3Publisher</td>\n",
              "      <td>0.12</td>\n",
              "      <td>0.09</td>\n",
              "      <td>0</td>\n",
              "      <td>0.04</td>\n",
              "    </tr>\n",
              "  </tbody>\n",
              "</table>\n",
              "</div>"
            ],
            "text/plain": [
              "                                             Name Platform  ...  JP_Sales Other_Sales\n",
              "0                    Candace Kane's Candy Factory       DS  ...         0           0\n",
              "1                                  The Munchables      Wii  ...         0        0.01\n",
              "2  Otome wa Oanesama Boku ni Koi Shiteru Portable      PSP  ...      0.02           0\n",
              "3                Deal or No Deal: Special Edition       DS  ...         0           0\n",
              "4       Ben 10 Ultimate Alien: Cosmic Destruction      PS3  ...         0        0.04\n",
              "\n",
              "[5 rows x 9 columns]"
            ]
          },
          "metadata": {
            "tags": []
          },
          "execution_count": 1
        }
      ]
    },
    {
      "cell_type": "code",
      "metadata": {
        "colab": {
          "base_uri": "https://localhost:8080/"
        },
        "id": "7RarBx44cDMa",
        "outputId": "eec75639-cfb8-4329-a107-22d5dae05fab"
      },
      "source": [
        "df.info()\n",
        "\n",
        "# Year column을 제외한 숫자형 column들이 object datatype인 것을 발견"
      ],
      "execution_count": 2,
      "outputs": [
        {
          "output_type": "stream",
          "text": [
            "<class 'pandas.core.frame.DataFrame'>\n",
            "RangeIndex: 16598 entries, 0 to 16597\n",
            "Data columns (total 9 columns):\n",
            " #   Column       Non-Null Count  Dtype  \n",
            "---  ------       --------------  -----  \n",
            " 0   Name         16598 non-null  object \n",
            " 1   Platform     16598 non-null  object \n",
            " 2   Year         16327 non-null  float64\n",
            " 3   Genre        16548 non-null  object \n",
            " 4   Publisher    16540 non-null  object \n",
            " 5   NA_Sales     16598 non-null  object \n",
            " 6   EU_Sales     16598 non-null  object \n",
            " 7   JP_Sales     16598 non-null  object \n",
            " 8   Other_Sales  16598 non-null  object \n",
            "dtypes: float64(1), object(8)\n",
            "memory usage: 1.1+ MB\n"
          ],
          "name": "stdout"
        }
      ]
    },
    {
      "cell_type": "code",
      "metadata": {
        "colab": {
          "base_uri": "https://localhost:8080/"
        },
        "id": "WBeP2uLwj4jH",
        "outputId": "0146e2af-fa38-486e-866d-8f107267bcdb"
      },
      "source": [
        "df.isna().sum()"
      ],
      "execution_count": null,
      "outputs": [
        {
          "output_type": "execute_result",
          "data": {
            "text/plain": [
              "Name             0\n",
              "Platform         0\n",
              "Year           271\n",
              "Genre           50\n",
              "Publisher       58\n",
              "NA_Sales         0\n",
              "EU_Sales         0\n",
              "JP_Sales         0\n",
              "Other_Sales      0\n",
              "dtype: int64"
            ]
          },
          "metadata": {
            "tags": []
          },
          "execution_count": 109
        }
      ]
    },
    {
      "cell_type": "code",
      "metadata": {
        "id": "q57Xenjtf3TZ"
      },
      "source": [
        "# K나 M이 섞여 있는 경우 값 바꾸는 함수\n",
        "\n",
        "def no_KM(string):\n",
        "  temp = ''\n",
        "  string = str.strip(string)\n",
        "\n",
        "  if 'K' in string:\n",
        "    temp = string.replace('K','')\n",
        "    \n",
        "    return float(temp)/1000\n",
        "\n",
        "  elif 'M' in string:\n",
        "    temp = string.replace('M','')\n",
        "    return float(temp)\n",
        "\n",
        "  else:\n",
        "    temp = string\n",
        "    return float(temp)\n"
      ],
      "execution_count": 3,
      "outputs": []
    },
    {
      "cell_type": "code",
      "metadata": {
        "colab": {
          "base_uri": "https://localhost:8080/",
          "height": 297
        },
        "id": "ckwz-gmgcFEz",
        "outputId": "5b4d7405-93d2-4d0e-d4d0-0e60bf65c9f9"
      },
      "source": [
        "df['NA_Sales'] = df['NA_Sales'].apply(no_KM)\n",
        "df['EU_Sales'] = df['EU_Sales'].apply(no_KM)\n",
        "df['JP_Sales'] = df['JP_Sales'].apply(no_KM)\n",
        "df['Other_Sales'] = df['Other_Sales'].apply(no_KM)\n",
        "\n",
        "df.describe()\n",
        "# 필요한 열들의 수치/분배 확인"
      ],
      "execution_count": 4,
      "outputs": [
        {
          "output_type": "execute_result",
          "data": {
            "text/html": [
              "<div>\n",
              "<style scoped>\n",
              "    .dataframe tbody tr th:only-of-type {\n",
              "        vertical-align: middle;\n",
              "    }\n",
              "\n",
              "    .dataframe tbody tr th {\n",
              "        vertical-align: top;\n",
              "    }\n",
              "\n",
              "    .dataframe thead th {\n",
              "        text-align: right;\n",
              "    }\n",
              "</style>\n",
              "<table border=\"1\" class=\"dataframe\">\n",
              "  <thead>\n",
              "    <tr style=\"text-align: right;\">\n",
              "      <th></th>\n",
              "      <th>Year</th>\n",
              "      <th>NA_Sales</th>\n",
              "      <th>EU_Sales</th>\n",
              "      <th>JP_Sales</th>\n",
              "      <th>Other_Sales</th>\n",
              "    </tr>\n",
              "  </thead>\n",
              "  <tbody>\n",
              "    <tr>\n",
              "      <th>count</th>\n",
              "      <td>16327.000000</td>\n",
              "      <td>16598.000000</td>\n",
              "      <td>16598.000000</td>\n",
              "      <td>16598.000000</td>\n",
              "      <td>16598.000000</td>\n",
              "    </tr>\n",
              "    <tr>\n",
              "      <th>mean</th>\n",
              "      <td>1994.242543</td>\n",
              "      <td>0.264667</td>\n",
              "      <td>0.146652</td>\n",
              "      <td>0.077782</td>\n",
              "      <td>0.048063</td>\n",
              "    </tr>\n",
              "    <tr>\n",
              "      <th>std</th>\n",
              "      <td>155.077168</td>\n",
              "      <td>0.816683</td>\n",
              "      <td>0.505351</td>\n",
              "      <td>0.309291</td>\n",
              "      <td>0.188588</td>\n",
              "    </tr>\n",
              "    <tr>\n",
              "      <th>min</th>\n",
              "      <td>0.000000</td>\n",
              "      <td>0.000000</td>\n",
              "      <td>0.000000</td>\n",
              "      <td>0.000000</td>\n",
              "      <td>0.000000</td>\n",
              "    </tr>\n",
              "    <tr>\n",
              "      <th>25%</th>\n",
              "      <td>2003.000000</td>\n",
              "      <td>0.000000</td>\n",
              "      <td>0.000000</td>\n",
              "      <td>0.000000</td>\n",
              "      <td>0.000000</td>\n",
              "    </tr>\n",
              "    <tr>\n",
              "      <th>50%</th>\n",
              "      <td>2007.000000</td>\n",
              "      <td>0.080000</td>\n",
              "      <td>0.020000</td>\n",
              "      <td>0.000000</td>\n",
              "      <td>0.010000</td>\n",
              "    </tr>\n",
              "    <tr>\n",
              "      <th>75%</th>\n",
              "      <td>2010.000000</td>\n",
              "      <td>0.240000</td>\n",
              "      <td>0.110000</td>\n",
              "      <td>0.040000</td>\n",
              "      <td>0.040000</td>\n",
              "    </tr>\n",
              "    <tr>\n",
              "      <th>max</th>\n",
              "      <td>2020.000000</td>\n",
              "      <td>41.490000</td>\n",
              "      <td>29.020000</td>\n",
              "      <td>10.220000</td>\n",
              "      <td>10.570000</td>\n",
              "    </tr>\n",
              "  </tbody>\n",
              "</table>\n",
              "</div>"
            ],
            "text/plain": [
              "               Year      NA_Sales      EU_Sales      JP_Sales   Other_Sales\n",
              "count  16327.000000  16598.000000  16598.000000  16598.000000  16598.000000\n",
              "mean    1994.242543      0.264667      0.146652      0.077782      0.048063\n",
              "std      155.077168      0.816683      0.505351      0.309291      0.188588\n",
              "min        0.000000      0.000000      0.000000      0.000000      0.000000\n",
              "25%     2003.000000      0.000000      0.000000      0.000000      0.000000\n",
              "50%     2007.000000      0.080000      0.020000      0.000000      0.010000\n",
              "75%     2010.000000      0.240000      0.110000      0.040000      0.040000\n",
              "max     2020.000000     41.490000     29.020000     10.220000     10.570000"
            ]
          },
          "metadata": {
            "tags": []
          },
          "execution_count": 4
        }
      ]
    },
    {
      "cell_type": "code",
      "metadata": {
        "id": "YTPTj8Hj4JY5"
      },
      "source": [
        "# Year 값이 100보다 작다면 2000을 더해서 다른 데이터들과 맞춰주는 함수 \n",
        "# - 끝자리 수가 중요하기 때문에 수가 22(2022)일 경우 2000을 더하는 방법으로 선택!\n",
        "# - 수가 22보다 크고 100보다 작다면 1900을 더하기\n",
        "\n",
        "df['Year'] = np.where(df['Year']<22, df['Year'] + 2000, df['Year'])\n",
        "df['Year'] = np.where(df['Year']<100, df['Year'] + 1900, df['Year'])\n"
      ],
      "execution_count": 5,
      "outputs": []
    },
    {
      "cell_type": "code",
      "metadata": {
        "colab": {
          "base_uri": "https://localhost:8080/"
        },
        "id": "KaGOBvsWnqNP",
        "outputId": "d591714b-6eb5-4ed5-d6b7-b0a4f51e4304"
      },
      "source": [
        "# 100보다 작은 랜덤한 값들이 더이상 없음\n",
        "df['Year'].min()"
      ],
      "execution_count": null,
      "outputs": [
        {
          "output_type": "execute_result",
          "data": {
            "text/plain": [
              "1980.0"
            ]
          },
          "metadata": {
            "tags": []
          },
          "execution_count": 51
        }
      ]
    },
    {
      "cell_type": "markdown",
      "metadata": {
        "id": "06UGvZEuo6Ph"
      },
      "source": [
        "## **1. 지역에 따라 선호하는 게임 장르**\n",
        "\n",
        "\n",
        "\n"
      ]
    },
    {
      "cell_type": "code",
      "metadata": {
        "colab": {
          "base_uri": "https://localhost:8080/",
          "height": 419
        },
        "id": "51eQZXhOo5E3",
        "outputId": "e331b292-6909-46f5-f5e8-220565b64a4f"
      },
      "source": [
        "df_location = df[['Genre', 'NA_Sales',\t'EU_Sales',\t'JP_Sales',\t'Other_Sales']]\n",
        "df_location = df_location.dropna()\n",
        "df_location"
      ],
      "execution_count": 6,
      "outputs": [
        {
          "output_type": "execute_result",
          "data": {
            "text/html": [
              "<div>\n",
              "<style scoped>\n",
              "    .dataframe tbody tr th:only-of-type {\n",
              "        vertical-align: middle;\n",
              "    }\n",
              "\n",
              "    .dataframe tbody tr th {\n",
              "        vertical-align: top;\n",
              "    }\n",
              "\n",
              "    .dataframe thead th {\n",
              "        text-align: right;\n",
              "    }\n",
              "</style>\n",
              "<table border=\"1\" class=\"dataframe\">\n",
              "  <thead>\n",
              "    <tr style=\"text-align: right;\">\n",
              "      <th></th>\n",
              "      <th>Genre</th>\n",
              "      <th>NA_Sales</th>\n",
              "      <th>EU_Sales</th>\n",
              "      <th>JP_Sales</th>\n",
              "      <th>Other_Sales</th>\n",
              "    </tr>\n",
              "  </thead>\n",
              "  <tbody>\n",
              "    <tr>\n",
              "      <th>0</th>\n",
              "      <td>Action</td>\n",
              "      <td>0.04</td>\n",
              "      <td>0.00</td>\n",
              "      <td>0.00</td>\n",
              "      <td>0.00</td>\n",
              "    </tr>\n",
              "    <tr>\n",
              "      <th>1</th>\n",
              "      <td>Action</td>\n",
              "      <td>0.17</td>\n",
              "      <td>0.00</td>\n",
              "      <td>0.00</td>\n",
              "      <td>0.01</td>\n",
              "    </tr>\n",
              "    <tr>\n",
              "      <th>2</th>\n",
              "      <td>Adventure</td>\n",
              "      <td>0.00</td>\n",
              "      <td>0.00</td>\n",
              "      <td>0.02</td>\n",
              "      <td>0.00</td>\n",
              "    </tr>\n",
              "    <tr>\n",
              "      <th>3</th>\n",
              "      <td>Misc</td>\n",
              "      <td>0.04</td>\n",
              "      <td>0.00</td>\n",
              "      <td>0.00</td>\n",
              "      <td>0.00</td>\n",
              "    </tr>\n",
              "    <tr>\n",
              "      <th>4</th>\n",
              "      <td>Platform</td>\n",
              "      <td>0.12</td>\n",
              "      <td>0.09</td>\n",
              "      <td>0.00</td>\n",
              "      <td>0.04</td>\n",
              "    </tr>\n",
              "    <tr>\n",
              "      <th>...</th>\n",
              "      <td>...</td>\n",
              "      <td>...</td>\n",
              "      <td>...</td>\n",
              "      <td>...</td>\n",
              "      <td>...</td>\n",
              "    </tr>\n",
              "    <tr>\n",
              "      <th>16593</th>\n",
              "      <td>Platform</td>\n",
              "      <td>0.15</td>\n",
              "      <td>0.04</td>\n",
              "      <td>0.00</td>\n",
              "      <td>0.01</td>\n",
              "    </tr>\n",
              "    <tr>\n",
              "      <th>16594</th>\n",
              "      <td>Action</td>\n",
              "      <td>0.01</td>\n",
              "      <td>0.00</td>\n",
              "      <td>0.00</td>\n",
              "      <td>0.00</td>\n",
              "    </tr>\n",
              "    <tr>\n",
              "      <th>16595</th>\n",
              "      <td>Sports</td>\n",
              "      <td>0.44</td>\n",
              "      <td>0.19</td>\n",
              "      <td>0.03</td>\n",
              "      <td>0.13</td>\n",
              "    </tr>\n",
              "    <tr>\n",
              "      <th>16596</th>\n",
              "      <td>Action</td>\n",
              "      <td>0.05</td>\n",
              "      <td>0.05</td>\n",
              "      <td>0.25</td>\n",
              "      <td>0.03</td>\n",
              "    </tr>\n",
              "    <tr>\n",
              "      <th>16597</th>\n",
              "      <td>Fighting</td>\n",
              "      <td>0.00</td>\n",
              "      <td>0.00</td>\n",
              "      <td>0.16</td>\n",
              "      <td>0.01</td>\n",
              "    </tr>\n",
              "  </tbody>\n",
              "</table>\n",
              "<p>16548 rows × 5 columns</p>\n",
              "</div>"
            ],
            "text/plain": [
              "           Genre  NA_Sales  EU_Sales  JP_Sales  Other_Sales\n",
              "0         Action      0.04      0.00      0.00         0.00\n",
              "1         Action      0.17      0.00      0.00         0.01\n",
              "2      Adventure      0.00      0.00      0.02         0.00\n",
              "3           Misc      0.04      0.00      0.00         0.00\n",
              "4       Platform      0.12      0.09      0.00         0.04\n",
              "...          ...       ...       ...       ...          ...\n",
              "16593   Platform      0.15      0.04      0.00         0.01\n",
              "16594     Action      0.01      0.00      0.00         0.00\n",
              "16595     Sports      0.44      0.19      0.03         0.13\n",
              "16596     Action      0.05      0.05      0.25         0.03\n",
              "16597   Fighting      0.00      0.00      0.16         0.01\n",
              "\n",
              "[16548 rows x 5 columns]"
            ]
          },
          "metadata": {
            "tags": []
          },
          "execution_count": 6
        }
      ]
    },
    {
      "cell_type": "code",
      "metadata": {
        "colab": {
          "base_uri": "https://localhost:8080/",
          "height": 502
        },
        "id": "kVIGBMXHpgFf",
        "outputId": "b5333bcc-0efd-425e-b8e8-c9f0b7085ac2"
      },
      "source": [
        "import seaborn as sns\n",
        "from matplotlib import pyplot\n",
        "\n",
        "sns.set_theme(style=\"whitegrid\")\n",
        "\n",
        "fig, ax = pyplot.subplots(figsize=(12, 8))\n",
        "\n",
        "ax = sns.barplot(ax=ax, x=\"Genre\", y=\"NA_Sales\", data=df_location)"
      ],
      "execution_count": 7,
      "outputs": [
        {
          "output_type": "display_data",
          "data": {
            "image/png": "[encoded data removed]",
            "text/plain": [
              "<Figure size 864x576 with 1 Axes>"
            ]
          },
          "metadata": {
            "tags": []
          }
        }
      ]
    },
    {
      "cell_type": "code",
      "metadata": {
        "colab": {
          "base_uri": "https://localhost:8080/",
          "height": 502
        },
        "id": "wQ0Ep5YBqQPI",
        "outputId": "be8deda0-bdfb-44fc-d66d-1d45d8eec1b4"
      },
      "source": [
        "fig2, ax2 = pyplot.subplots(figsize=(12, 8))\n",
        "\n",
        "ax2 = sns.barplot(ax=ax2, x=\"Genre\", y=\"EU_Sales\", data=df_location)"
      ],
      "execution_count": null,
      "outputs": [
        {
          "output_type": "display_data",
          "data": {
            "image/png": "[encoded data removed]",
            "text/plain": [
              "<Figure size 864x576 with 1 Axes>"
            ]
          },
          "metadata": {
            "tags": []
          }
        }
      ]
    },
    {
      "cell_type": "code",
      "metadata": {
        "colab": {
          "base_uri": "https://localhost:8080/",
          "height": 502
        },
        "id": "qrJfWV4Gqns4",
        "outputId": "e92001b5-81e6-48f6-88cc-fa6575bd7e35"
      },
      "source": [
        "fig3, ax3 = pyplot.subplots(figsize=(12, 8))\n",
        "\n",
        "ax3 = sns.barplot(ax=ax3, x=\"Genre\", y=\"JP_Sales\", data=df_location)"
      ],
      "execution_count": null,
      "outputs": [
        {
          "output_type": "display_data",
          "data": {
            "image/png": "[encoded data removed]",
            "text/plain": [
              "<Figure size 864x576 with 1 Axes>"
            ]
          },
          "metadata": {
            "tags": []
          }
        }
      ]
    },
    {
      "cell_type": "code",
      "metadata": {
        "colab": {
          "base_uri": "https://localhost:8080/",
          "height": 502
        },
        "id": "xzYnSr47qpxc",
        "outputId": "b31ba843-0058-4618-845a-cbf00ccc5b04"
      },
      "source": [
        "fig4, ax4 = pyplot.subplots(figsize=(12, 8))\n",
        "\n",
        "ax4 = sns.barplot(ax=ax4, x=\"Genre\", y=\"Other_Sales\", data=df_location)"
      ],
      "execution_count": null,
      "outputs": [
        {
          "output_type": "display_data",
          "data": {
            "image/png": "[encoded data removed]",
            "text/plain": [
              "<Figure size 864x576 with 1 Axes>"
            ]
          },
          "metadata": {
            "tags": []
          }
        }
      ]
    },
    {
      "cell_type": "code",
      "metadata": {
        "colab": {
          "base_uri": "https://localhost:8080/",
          "height": 452
        },
        "id": "Juy5mrXpq2yQ",
        "outputId": "8359ea32-3345-49d9-e7d6-993e306c30b8"
      },
      "source": [
        "genre_data = df_location.groupby(\"Genre\").sum().sort_values(by=['NA_Sales'], ascending=False)\n",
        "genre_data\n",
        "\n",
        "# NA Sales (북미 판매량)이 제일 많기 때문에 그 기준으로 내림차순을 만들었을 때, Action, Sports, Shooter, Platform, Racing, Role-Playing (6가지) 게임종목들이 가장 인기있다는 걸 확인할 수 있었다."
      ],
      "execution_count": 8,
      "outputs": [
        {
          "output_type": "execute_result",
          "data": {
            "text/html": [
              "<div>\n",
              "<style scoped>\n",
              "    .dataframe tbody tr th:only-of-type {\n",
              "        vertical-align: middle;\n",
              "    }\n",
              "\n",
              "    .dataframe tbody tr th {\n",
              "        vertical-align: top;\n",
              "    }\n",
              "\n",
              "    .dataframe thead th {\n",
              "        text-align: right;\n",
              "    }\n",
              "</style>\n",
              "<table border=\"1\" class=\"dataframe\">\n",
              "  <thead>\n",
              "    <tr style=\"text-align: right;\">\n",
              "      <th></th>\n",
              "      <th>NA_Sales</th>\n",
              "      <th>EU_Sales</th>\n",
              "      <th>JP_Sales</th>\n",
              "      <th>Other_Sales</th>\n",
              "    </tr>\n",
              "    <tr>\n",
              "      <th>Genre</th>\n",
              "      <th></th>\n",
              "      <th></th>\n",
              "      <th></th>\n",
              "      <th></th>\n",
              "    </tr>\n",
              "  </thead>\n",
              "  <tbody>\n",
              "    <tr>\n",
              "      <th>Action</th>\n",
              "      <td>874.81</td>\n",
              "      <td>522.16</td>\n",
              "      <td>157.90</td>\n",
              "      <td>186.45</td>\n",
              "    </tr>\n",
              "    <tr>\n",
              "      <th>Sports</th>\n",
              "      <td>680.52</td>\n",
              "      <td>376.48</td>\n",
              "      <td>135.37</td>\n",
              "      <td>134.67</td>\n",
              "    </tr>\n",
              "    <tr>\n",
              "      <th>Shooter</th>\n",
              "      <td>581.92</td>\n",
              "      <td>313.05</td>\n",
              "      <td>38.28</td>\n",
              "      <td>102.65</td>\n",
              "    </tr>\n",
              "    <tr>\n",
              "      <th>Platform</th>\n",
              "      <td>446.44</td>\n",
              "      <td>201.61</td>\n",
              "      <td>130.65</td>\n",
              "      <td>51.53</td>\n",
              "    </tr>\n",
              "    <tr>\n",
              "      <th>Misc</th>\n",
              "      <td>408.05</td>\n",
              "      <td>212.36</td>\n",
              "      <td>105.27</td>\n",
              "      <td>74.04</td>\n",
              "    </tr>\n",
              "    <tr>\n",
              "      <th>Racing</th>\n",
              "      <td>357.19</td>\n",
              "      <td>237.10</td>\n",
              "      <td>56.40</td>\n",
              "      <td>77.10</td>\n",
              "    </tr>\n",
              "    <tr>\n",
              "      <th>Role-Playing</th>\n",
              "      <td>319.54</td>\n",
              "      <td>183.58</td>\n",
              "      <td>344.95</td>\n",
              "      <td>56.96</td>\n",
              "    </tr>\n",
              "    <tr>\n",
              "      <th>Fighting</th>\n",
              "      <td>223.20</td>\n",
              "      <td>101.22</td>\n",
              "      <td>87.34</td>\n",
              "      <td>36.64</td>\n",
              "    </tr>\n",
              "    <tr>\n",
              "      <th>Simulation</th>\n",
              "      <td>182.96</td>\n",
              "      <td>113.35</td>\n",
              "      <td>63.70</td>\n",
              "      <td>31.48</td>\n",
              "    </tr>\n",
              "    <tr>\n",
              "      <th>Puzzle</th>\n",
              "      <td>123.35</td>\n",
              "      <td>50.73</td>\n",
              "      <td>56.87</td>\n",
              "      <td>12.52</td>\n",
              "    </tr>\n",
              "    <tr>\n",
              "      <th>Adventure</th>\n",
              "      <td>105.66</td>\n",
              "      <td>64.05</td>\n",
              "      <td>51.95</td>\n",
              "      <td>16.81</td>\n",
              "    </tr>\n",
              "    <tr>\n",
              "      <th>Strategy</th>\n",
              "      <td>68.70</td>\n",
              "      <td>45.32</td>\n",
              "      <td>49.46</td>\n",
              "      <td>11.36</td>\n",
              "    </tr>\n",
              "  </tbody>\n",
              "</table>\n",
              "</div>"
            ],
            "text/plain": [
              "              NA_Sales  EU_Sales  JP_Sales  Other_Sales\n",
              "Genre                                                  \n",
              "Action          874.81    522.16    157.90       186.45\n",
              "Sports          680.52    376.48    135.37       134.67\n",
              "Shooter         581.92    313.05     38.28       102.65\n",
              "Platform        446.44    201.61    130.65        51.53\n",
              "Misc            408.05    212.36    105.27        74.04\n",
              "Racing          357.19    237.10     56.40        77.10\n",
              "Role-Playing    319.54    183.58    344.95        56.96\n",
              "Fighting        223.20    101.22     87.34        36.64\n",
              "Simulation      182.96    113.35     63.70        31.48\n",
              "Puzzle          123.35     50.73     56.87        12.52\n",
              "Adventure       105.66     64.05     51.95        16.81\n",
              "Strategy         68.70     45.32     49.46        11.36"
            ]
          },
          "metadata": {
            "tags": []
          },
          "execution_count": 8
        }
      ]
    },
    {
      "cell_type": "code",
      "metadata": {
        "colab": {
          "base_uri": "https://localhost:8080/",
          "height": 373
        },
        "id": "B06d5Avjq7A6",
        "outputId": "a677fee1-7d8c-4226-ce7b-c29675795dca"
      },
      "source": [
        "import matplotlib.pyplot as plt\n",
        "\n",
        "labels = 'North America', 'Europe', 'Japan', 'Others'\n",
        "sizes = [874.81,\t522.16,\t157.90,\t186.45]\n",
        "explode = (0.1, 0, 0, 0)\n",
        "\n",
        "fig1, ax_pie1 = plt.subplots(figsize=(6, 6))\n",
        "ax_pie1.pie(sizes, explode=explode, labels=labels, autopct='%1.1f%%',\n",
        "        shadow=True, startangle=90)\n",
        "ax_pie1.axis('equal')\n",
        "plt.title('Game Genre : Action', fontweight='bold')\n",
        "\n",
        "plt.show()"
      ],
      "execution_count": 9,
      "outputs": [
        {
          "output_type": "display_data",
          "data": {
            "image/png": "[encoded data removed]",
            "text/plain": [
              "<Figure size 432x432 with 1 Axes>"
            ]
          },
          "metadata": {
            "tags": []
          }
        }
      ]
    },
    {
      "cell_type": "code",
      "metadata": {
        "colab": {
          "base_uri": "https://localhost:8080/",
          "height": 373
        },
        "id": "QVKh2VgJz51C",
        "outputId": "d0e4de5f-88ea-4d6c-b5a0-f77d392853ad"
      },
      "source": [
        "\n",
        "sizes = [680.52,\t376.48,\t135.37,\t134.67]\n",
        "explode = (0.1, 0, 0, 0)\n",
        "\n",
        "fig3, ax_pie3 = plt.subplots(figsize=(6,6))\n",
        "ax_pie3.pie(sizes, explode=explode, labels=labels, autopct='%1.1f%%',\n",
        "        shadow=True, startangle=90)\n",
        "ax_pie3.axis('equal')\n",
        "plt.title('Game Genre : Sports', fontweight='bold')\n",
        "\n",
        "plt.show()"
      ],
      "execution_count": null,
      "outputs": [
        {
          "output_type": "display_data",
          "data": {
            "image/png": "[encoded data removed]",
            "text/plain": [
              "<Figure size 432x432 with 1 Axes>"
            ]
          },
          "metadata": {
            "tags": []
          }
        }
      ]
    },
    {
      "cell_type": "code",
      "metadata": {
        "colab": {
          "base_uri": "https://localhost:8080/",
          "height": 373
        },
        "id": "S1Jhfi3bxlBv",
        "outputId": "e774748c-1951-49ec-a19d-64704ade5852"
      },
      "source": [
        "sizes2 = [319.54,\t183.58,\t344.95,\t56.96]\n",
        "explode2 = (0, 0, 0.1, 0)\n",
        "\n",
        "fig1, ax_pie2 = plt.subplots(figsize=(6,6))\n",
        "ax_pie2.pie(sizes2, explode=explode2, labels=labels, autopct='%1.1f%%',\n",
        "        shadow=True, startangle=90)\n",
        "ax_pie2.axis('equal')\n",
        "plt.title('Game Genre : Role Playing', fontweight='bold')\n",
        "\n",
        "\n",
        "plt.show()"
      ],
      "execution_count": null,
      "outputs": [
        {
          "output_type": "display_data",
          "data": {
            "image/png": "[encoded data removed]",
            "text/plain": [
              "<Figure size 432x432 with 1 Axes>"
            ]
          },
          "metadata": {
            "tags": []
          }
        }
      ]
    },
    {
      "cell_type": "markdown",
      "metadata": {
        "id": "MOXOMGoKwZwk"
      },
      "source": [
        "\n",
        "\n",
        "> **북미(NA)와 유럽(EU)은 인기 게임종목 순위나 동향이 비슷하다는 걸 볼 수 있었다. 두 지역의 대표적인 선호 장르는 Action, Sport, Shooter, Platform, Racing이었으며 일본은 Role-Playing이 압도적인 1위를 차지했고, 그 다음 순위인 Platform이 공통적으로 세 지역에서 비슷한 비중으로 인기가 있었다.**\n",
        "\n"
      ]
    },
    {
      "cell_type": "markdown",
      "metadata": {
        "id": "aOcB5ia22Ahl"
      },
      "source": [
        "---"
      ]
    },
    {
      "cell_type": "markdown",
      "metadata": {
        "id": "hd0OcGXe2BL5"
      },
      "source": [
        "## 2. **연도별 게임 트렌드**\n",
        "\n"
      ]
    },
    {
      "cell_type": "code",
      "metadata": {
        "colab": {
          "base_uri": "https://localhost:8080/",
          "height": 419
        },
        "id": "ZPpUna7y7ZFk",
        "outputId": "0e159f47-107d-4b9a-eebb-dbc0e9dcd6d5"
      },
      "source": [
        "df_chrono = df[['Platform', 'Year', 'Genre', 'Publisher', 'NA_Sales', 'EU_Sales', 'JP_Sales', 'Other_Sales']]\n",
        "df_chrono['Sales'] = df_chrono['NA_Sales'] + df_chrono['EU_Sales'] + df_chrono['JP_Sales'] + df_chrono['Other_Sales'] \n",
        "df_chrono.drop(['NA_Sales', 'EU_Sales', 'JP_Sales', 'Other_Sales'], axis=1, inplace=True)\n",
        "df_chrono"
      ],
      "execution_count": null,
      "outputs": [
        {
          "output_type": "execute_result",
          "data": {
            "text/html": [
              "<div>\n",
              "<style scoped>\n",
              "    .dataframe tbody tr th:only-of-type {\n",
              "        vertical-align: middle;\n",
              "    }\n",
              "\n",
              "    .dataframe tbody tr th {\n",
              "        vertical-align: top;\n",
              "    }\n",
              "\n",
              "    .dataframe thead th {\n",
              "        text-align: right;\n",
              "    }\n",
              "</style>\n",
              "<table border=\"1\" class=\"dataframe\">\n",
              "  <thead>\n",
              "    <tr style=\"text-align: right;\">\n",
              "      <th></th>\n",
              "      <th>Platform</th>\n",
              "      <th>Year</th>\n",
              "      <th>Genre</th>\n",
              "      <th>Publisher</th>\n",
              "      <th>Sales</th>\n",
              "    </tr>\n",
              "  </thead>\n",
              "  <tbody>\n",
              "    <tr>\n",
              "      <th>0</th>\n",
              "      <td>DS</td>\n",
              "      <td>2008.0</td>\n",
              "      <td>Action</td>\n",
              "      <td>Destineer</td>\n",
              "      <td>0.04</td>\n",
              "    </tr>\n",
              "    <tr>\n",
              "      <th>1</th>\n",
              "      <td>Wii</td>\n",
              "      <td>2009.0</td>\n",
              "      <td>Action</td>\n",
              "      <td>Namco Bandai Games</td>\n",
              "      <td>0.18</td>\n",
              "    </tr>\n",
              "    <tr>\n",
              "      <th>2</th>\n",
              "      <td>PSP</td>\n",
              "      <td>2010.0</td>\n",
              "      <td>Adventure</td>\n",
              "      <td>Alchemist</td>\n",
              "      <td>0.02</td>\n",
              "    </tr>\n",
              "    <tr>\n",
              "      <th>3</th>\n",
              "      <td>DS</td>\n",
              "      <td>2010.0</td>\n",
              "      <td>Misc</td>\n",
              "      <td>Zoo Games</td>\n",
              "      <td>0.04</td>\n",
              "    </tr>\n",
              "    <tr>\n",
              "      <th>4</th>\n",
              "      <td>PS3</td>\n",
              "      <td>2010.0</td>\n",
              "      <td>Platform</td>\n",
              "      <td>D3Publisher</td>\n",
              "      <td>0.25</td>\n",
              "    </tr>\n",
              "    <tr>\n",
              "      <th>...</th>\n",
              "      <td>...</td>\n",
              "      <td>...</td>\n",
              "      <td>...</td>\n",
              "      <td>...</td>\n",
              "      <td>...</td>\n",
              "    </tr>\n",
              "    <tr>\n",
              "      <th>16593</th>\n",
              "      <td>GC</td>\n",
              "      <td>2006.0</td>\n",
              "      <td>Platform</td>\n",
              "      <td>Vivendi Games</td>\n",
              "      <td>0.20</td>\n",
              "    </tr>\n",
              "    <tr>\n",
              "      <th>16594</th>\n",
              "      <td>PSP</td>\n",
              "      <td>2005.0</td>\n",
              "      <td>Action</td>\n",
              "      <td>Rising Star Games</td>\n",
              "      <td>0.01</td>\n",
              "    </tr>\n",
              "    <tr>\n",
              "      <th>16595</th>\n",
              "      <td>PS3</td>\n",
              "      <td>2015.0</td>\n",
              "      <td>Sports</td>\n",
              "      <td>Take-Two Interactive</td>\n",
              "      <td>0.79</td>\n",
              "    </tr>\n",
              "    <tr>\n",
              "      <th>16596</th>\n",
              "      <td>PSV</td>\n",
              "      <td>2013.0</td>\n",
              "      <td>Action</td>\n",
              "      <td>Tecmo Koei</td>\n",
              "      <td>0.38</td>\n",
              "    </tr>\n",
              "    <tr>\n",
              "      <th>16597</th>\n",
              "      <td>PS</td>\n",
              "      <td>1996.0</td>\n",
              "      <td>Fighting</td>\n",
              "      <td>Sony Computer Entertainment</td>\n",
              "      <td>0.17</td>\n",
              "    </tr>\n",
              "  </tbody>\n",
              "</table>\n",
              "<p>16598 rows × 5 columns</p>\n",
              "</div>"
            ],
            "text/plain": [
              "      Platform    Year      Genre                    Publisher  Sales\n",
              "0           DS  2008.0     Action                    Destineer   0.04\n",
              "1          Wii  2009.0     Action           Namco Bandai Games   0.18\n",
              "2          PSP  2010.0  Adventure                    Alchemist   0.02\n",
              "3           DS  2010.0       Misc                    Zoo Games   0.04\n",
              "4          PS3  2010.0   Platform                  D3Publisher   0.25\n",
              "...        ...     ...        ...                          ...    ...\n",
              "16593       GC  2006.0   Platform                Vivendi Games   0.20\n",
              "16594      PSP  2005.0     Action            Rising Star Games   0.01\n",
              "16595      PS3  2015.0     Sports         Take-Two Interactive   0.79\n",
              "16596      PSV  2013.0     Action                   Tecmo Koei   0.38\n",
              "16597       PS  1996.0   Fighting  Sony Computer Entertainment   0.17\n",
              "\n",
              "[16598 rows x 5 columns]"
            ]
          },
          "metadata": {
            "tags": []
          },
          "execution_count": 35
        }
      ]
    },
    {
      "cell_type": "code",
      "metadata": {
        "id": "zqdhJXfd6mAe"
      },
      "source": [
        "df_chrono.dropna(inplace=True)"
      ],
      "execution_count": null,
      "outputs": []
    },
    {
      "cell_type": "code",
      "metadata": {
        "id": "TT93Be1k7PNT"
      },
      "source": [
        "def toInt(flt):\n",
        "  if flt:\n",
        "    return int(flt)\n",
        "  else:\n",
        "    pass"
      ],
      "execution_count": null,
      "outputs": []
    },
    {
      "cell_type": "code",
      "metadata": {
        "colab": {
          "base_uri": "https://localhost:8080/",
          "height": 419
        },
        "id": "fjVe3FVU2GBZ",
        "outputId": "fb8fd7b5-d606-4ebf-a7ac-74db060644d8"
      },
      "source": [
        "# change float value to int value\n",
        "df_chrono['Year'] = df_chrono['Year'].apply(toInt)\n",
        "df_chrono"
      ],
      "execution_count": null,
      "outputs": [
        {
          "output_type": "execute_result",
          "data": {
            "text/html": [
              "<div>\n",
              "<style scoped>\n",
              "    .dataframe tbody tr th:only-of-type {\n",
              "        vertical-align: middle;\n",
              "    }\n",
              "\n",
              "    .dataframe tbody tr th {\n",
              "        vertical-align: top;\n",
              "    }\n",
              "\n",
              "    .dataframe thead th {\n",
              "        text-align: right;\n",
              "    }\n",
              "</style>\n",
              "<table border=\"1\" class=\"dataframe\">\n",
              "  <thead>\n",
              "    <tr style=\"text-align: right;\">\n",
              "      <th></th>\n",
              "      <th>Platform</th>\n",
              "      <th>Year</th>\n",
              "      <th>Genre</th>\n",
              "      <th>Publisher</th>\n",
              "      <th>Sales</th>\n",
              "    </tr>\n",
              "  </thead>\n",
              "  <tbody>\n",
              "    <tr>\n",
              "      <th>0</th>\n",
              "      <td>DS</td>\n",
              "      <td>2008</td>\n",
              "      <td>Action</td>\n",
              "      <td>Destineer</td>\n",
              "      <td>0.04</td>\n",
              "    </tr>\n",
              "    <tr>\n",
              "      <th>1</th>\n",
              "      <td>Wii</td>\n",
              "      <td>2009</td>\n",
              "      <td>Action</td>\n",
              "      <td>Namco Bandai Games</td>\n",
              "      <td>0.18</td>\n",
              "    </tr>\n",
              "    <tr>\n",
              "      <th>2</th>\n",
              "      <td>PSP</td>\n",
              "      <td>2010</td>\n",
              "      <td>Adventure</td>\n",
              "      <td>Alchemist</td>\n",
              "      <td>0.02</td>\n",
              "    </tr>\n",
              "    <tr>\n",
              "      <th>3</th>\n",
              "      <td>DS</td>\n",
              "      <td>2010</td>\n",
              "      <td>Misc</td>\n",
              "      <td>Zoo Games</td>\n",
              "      <td>0.04</td>\n",
              "    </tr>\n",
              "    <tr>\n",
              "      <th>4</th>\n",
              "      <td>PS3</td>\n",
              "      <td>2010</td>\n",
              "      <td>Platform</td>\n",
              "      <td>D3Publisher</td>\n",
              "      <td>0.25</td>\n",
              "    </tr>\n",
              "    <tr>\n",
              "      <th>...</th>\n",
              "      <td>...</td>\n",
              "      <td>...</td>\n",
              "      <td>...</td>\n",
              "      <td>...</td>\n",
              "      <td>...</td>\n",
              "    </tr>\n",
              "    <tr>\n",
              "      <th>16593</th>\n",
              "      <td>GC</td>\n",
              "      <td>2006</td>\n",
              "      <td>Platform</td>\n",
              "      <td>Vivendi Games</td>\n",
              "      <td>0.20</td>\n",
              "    </tr>\n",
              "    <tr>\n",
              "      <th>16594</th>\n",
              "      <td>PSP</td>\n",
              "      <td>2005</td>\n",
              "      <td>Action</td>\n",
              "      <td>Rising Star Games</td>\n",
              "      <td>0.01</td>\n",
              "    </tr>\n",
              "    <tr>\n",
              "      <th>16595</th>\n",
              "      <td>PS3</td>\n",
              "      <td>2015</td>\n",
              "      <td>Sports</td>\n",
              "      <td>Take-Two Interactive</td>\n",
              "      <td>0.79</td>\n",
              "    </tr>\n",
              "    <tr>\n",
              "      <th>16596</th>\n",
              "      <td>PSV</td>\n",
              "      <td>2013</td>\n",
              "      <td>Action</td>\n",
              "      <td>Tecmo Koei</td>\n",
              "      <td>0.38</td>\n",
              "    </tr>\n",
              "    <tr>\n",
              "      <th>16597</th>\n",
              "      <td>PS</td>\n",
              "      <td>1996</td>\n",
              "      <td>Fighting</td>\n",
              "      <td>Sony Computer Entertainment</td>\n",
              "      <td>0.17</td>\n",
              "    </tr>\n",
              "  </tbody>\n",
              "</table>\n",
              "<p>16241 rows × 5 columns</p>\n",
              "</div>"
            ],
            "text/plain": [
              "      Platform  Year      Genre                    Publisher  Sales\n",
              "0           DS  2008     Action                    Destineer   0.04\n",
              "1          Wii  2009     Action           Namco Bandai Games   0.18\n",
              "2          PSP  2010  Adventure                    Alchemist   0.02\n",
              "3           DS  2010       Misc                    Zoo Games   0.04\n",
              "4          PS3  2010   Platform                  D3Publisher   0.25\n",
              "...        ...   ...        ...                          ...    ...\n",
              "16593       GC  2006   Platform                Vivendi Games   0.20\n",
              "16594      PSP  2005     Action            Rising Star Games   0.01\n",
              "16595      PS3  2015     Sports         Take-Two Interactive   0.79\n",
              "16596      PSV  2013     Action                   Tecmo Koei   0.38\n",
              "16597       PS  1996   Fighting  Sony Computer Entertainment   0.17\n",
              "\n",
              "[16241 rows x 5 columns]"
            ]
          },
          "metadata": {
            "tags": []
          },
          "execution_count": 38
        }
      ]
    },
    {
      "cell_type": "code",
      "metadata": {
        "id": "zMvVn6H5Ib-p"
      },
      "source": [
        "# one-hot encoding the 'Genre' using get_dummies\n",
        "y = pd.get_dummies(df_chrono.Genre)\n",
        "y[['Year', 'Sales']] = df_chrono[['Year', 'Sales']]"
      ],
      "execution_count": null,
      "outputs": []
    },
    {
      "cell_type": "code",
      "metadata": {
        "colab": {
          "base_uri": "https://localhost:8080/",
          "height": 419
        },
        "id": "Lr0jSO7T_D2x",
        "outputId": "9ec1e211-bf1e-40d1-9b80-d36ee45938b7"
      },
      "source": [
        "column_values = ['Action', 'Adventure', 'Fighting', 'Misc', 'Platform', 'Puzzle', 'Racing', 'Role-Playing', 'Shooter', 'Simulation' , 'Sports', 'Strategy']\n",
        "\n",
        "for i in column_values:\n",
        "  y[i] = y[i]*y['Sales']\n",
        "\n",
        "y\n",
        "# multiply each one-hot-encoded value with the Sales value"
      ],
      "execution_count": null,
      "outputs": [
        {
          "output_type": "execute_result",
          "data": {
            "text/html": [
              "<div>\n",
              "<style scoped>\n",
              "    .dataframe tbody tr th:only-of-type {\n",
              "        vertical-align: middle;\n",
              "    }\n",
              "\n",
              "    .dataframe tbody tr th {\n",
              "        vertical-align: top;\n",
              "    }\n",
              "\n",
              "    .dataframe thead th {\n",
              "        text-align: right;\n",
              "    }\n",
              "</style>\n",
              "<table border=\"1\" class=\"dataframe\">\n",
              "  <thead>\n",
              "    <tr style=\"text-align: right;\">\n",
              "      <th></th>\n",
              "      <th>Action</th>\n",
              "      <th>Adventure</th>\n",
              "      <th>Fighting</th>\n",
              "      <th>Misc</th>\n",
              "      <th>Platform</th>\n",
              "      <th>Puzzle</th>\n",
              "      <th>Racing</th>\n",
              "      <th>Role-Playing</th>\n",
              "      <th>Shooter</th>\n",
              "      <th>Simulation</th>\n",
              "      <th>Sports</th>\n",
              "      <th>Strategy</th>\n",
              "      <th>Year</th>\n",
              "      <th>Sales</th>\n",
              "    </tr>\n",
              "  </thead>\n",
              "  <tbody>\n",
              "    <tr>\n",
              "      <th>0</th>\n",
              "      <td>0.04</td>\n",
              "      <td>0.00</td>\n",
              "      <td>0.00</td>\n",
              "      <td>0.00</td>\n",
              "      <td>0.00</td>\n",
              "      <td>0.0</td>\n",
              "      <td>0.0</td>\n",
              "      <td>0.0</td>\n",
              "      <td>0.0</td>\n",
              "      <td>0.0</td>\n",
              "      <td>0.00</td>\n",
              "      <td>0.0</td>\n",
              "      <td>2008</td>\n",
              "      <td>0.04</td>\n",
              "    </tr>\n",
              "    <tr>\n",
              "      <th>1</th>\n",
              "      <td>0.18</td>\n",
              "      <td>0.00</td>\n",
              "      <td>0.00</td>\n",
              "      <td>0.00</td>\n",
              "      <td>0.00</td>\n",
              "      <td>0.0</td>\n",
              "      <td>0.0</td>\n",
              "      <td>0.0</td>\n",
              "      <td>0.0</td>\n",
              "      <td>0.0</td>\n",
              "      <td>0.00</td>\n",
              "      <td>0.0</td>\n",
              "      <td>2009</td>\n",
              "      <td>0.18</td>\n",
              "    </tr>\n",
              "    <tr>\n",
              "      <th>2</th>\n",
              "      <td>0.00</td>\n",
              "      <td>0.02</td>\n",
              "      <td>0.00</td>\n",
              "      <td>0.00</td>\n",
              "      <td>0.00</td>\n",
              "      <td>0.0</td>\n",
              "      <td>0.0</td>\n",
              "      <td>0.0</td>\n",
              "      <td>0.0</td>\n",
              "      <td>0.0</td>\n",
              "      <td>0.00</td>\n",
              "      <td>0.0</td>\n",
              "      <td>2010</td>\n",
              "      <td>0.02</td>\n",
              "    </tr>\n",
              "    <tr>\n",
              "      <th>3</th>\n",
              "      <td>0.00</td>\n",
              "      <td>0.00</td>\n",
              "      <td>0.00</td>\n",
              "      <td>0.04</td>\n",
              "      <td>0.00</td>\n",
              "      <td>0.0</td>\n",
              "      <td>0.0</td>\n",
              "      <td>0.0</td>\n",
              "      <td>0.0</td>\n",
              "      <td>0.0</td>\n",
              "      <td>0.00</td>\n",
              "      <td>0.0</td>\n",
              "      <td>2010</td>\n",
              "      <td>0.04</td>\n",
              "    </tr>\n",
              "    <tr>\n",
              "      <th>4</th>\n",
              "      <td>0.00</td>\n",
              "      <td>0.00</td>\n",
              "      <td>0.00</td>\n",
              "      <td>0.00</td>\n",
              "      <td>0.25</td>\n",
              "      <td>0.0</td>\n",
              "      <td>0.0</td>\n",
              "      <td>0.0</td>\n",
              "      <td>0.0</td>\n",
              "      <td>0.0</td>\n",
              "      <td>0.00</td>\n",
              "      <td>0.0</td>\n",
              "      <td>2010</td>\n",
              "      <td>0.25</td>\n",
              "    </tr>\n",
              "    <tr>\n",
              "      <th>...</th>\n",
              "      <td>...</td>\n",
              "      <td>...</td>\n",
              "      <td>...</td>\n",
              "      <td>...</td>\n",
              "      <td>...</td>\n",
              "      <td>...</td>\n",
              "      <td>...</td>\n",
              "      <td>...</td>\n",
              "      <td>...</td>\n",
              "      <td>...</td>\n",
              "      <td>...</td>\n",
              "      <td>...</td>\n",
              "      <td>...</td>\n",
              "      <td>...</td>\n",
              "    </tr>\n",
              "    <tr>\n",
              "      <th>16593</th>\n",
              "      <td>0.00</td>\n",
              "      <td>0.00</td>\n",
              "      <td>0.00</td>\n",
              "      <td>0.00</td>\n",
              "      <td>0.20</td>\n",
              "      <td>0.0</td>\n",
              "      <td>0.0</td>\n",
              "      <td>0.0</td>\n",
              "      <td>0.0</td>\n",
              "      <td>0.0</td>\n",
              "      <td>0.00</td>\n",
              "      <td>0.0</td>\n",
              "      <td>2006</td>\n",
              "      <td>0.20</td>\n",
              "    </tr>\n",
              "    <tr>\n",
              "      <th>16594</th>\n",
              "      <td>0.01</td>\n",
              "      <td>0.00</td>\n",
              "      <td>0.00</td>\n",
              "      <td>0.00</td>\n",
              "      <td>0.00</td>\n",
              "      <td>0.0</td>\n",
              "      <td>0.0</td>\n",
              "      <td>0.0</td>\n",
              "      <td>0.0</td>\n",
              "      <td>0.0</td>\n",
              "      <td>0.00</td>\n",
              "      <td>0.0</td>\n",
              "      <td>2005</td>\n",
              "      <td>0.01</td>\n",
              "    </tr>\n",
              "    <tr>\n",
              "      <th>16595</th>\n",
              "      <td>0.00</td>\n",
              "      <td>0.00</td>\n",
              "      <td>0.00</td>\n",
              "      <td>0.00</td>\n",
              "      <td>0.00</td>\n",
              "      <td>0.0</td>\n",
              "      <td>0.0</td>\n",
              "      <td>0.0</td>\n",
              "      <td>0.0</td>\n",
              "      <td>0.0</td>\n",
              "      <td>0.79</td>\n",
              "      <td>0.0</td>\n",
              "      <td>2015</td>\n",
              "      <td>0.79</td>\n",
              "    </tr>\n",
              "    <tr>\n",
              "      <th>16596</th>\n",
              "      <td>0.38</td>\n",
              "      <td>0.00</td>\n",
              "      <td>0.00</td>\n",
              "      <td>0.00</td>\n",
              "      <td>0.00</td>\n",
              "      <td>0.0</td>\n",
              "      <td>0.0</td>\n",
              "      <td>0.0</td>\n",
              "      <td>0.0</td>\n",
              "      <td>0.0</td>\n",
              "      <td>0.00</td>\n",
              "      <td>0.0</td>\n",
              "      <td>2013</td>\n",
              "      <td>0.38</td>\n",
              "    </tr>\n",
              "    <tr>\n",
              "      <th>16597</th>\n",
              "      <td>0.00</td>\n",
              "      <td>0.00</td>\n",
              "      <td>0.17</td>\n",
              "      <td>0.00</td>\n",
              "      <td>0.00</td>\n",
              "      <td>0.0</td>\n",
              "      <td>0.0</td>\n",
              "      <td>0.0</td>\n",
              "      <td>0.0</td>\n",
              "      <td>0.0</td>\n",
              "      <td>0.00</td>\n",
              "      <td>0.0</td>\n",
              "      <td>1996</td>\n",
              "      <td>0.17</td>\n",
              "    </tr>\n",
              "  </tbody>\n",
              "</table>\n",
              "<p>16241 rows × 14 columns</p>\n",
              "</div>"
            ],
            "text/plain": [
              "       Action  Adventure  Fighting  Misc  ...  Sports  Strategy  Year  Sales\n",
              "0        0.04       0.00      0.00  0.00  ...    0.00       0.0  2008   0.04\n",
              "1        0.18       0.00      0.00  0.00  ...    0.00       0.0  2009   0.18\n",
              "2        0.00       0.02      0.00  0.00  ...    0.00       0.0  2010   0.02\n",
              "3        0.00       0.00      0.00  0.04  ...    0.00       0.0  2010   0.04\n",
              "4        0.00       0.00      0.00  0.00  ...    0.00       0.0  2010   0.25\n",
              "...       ...        ...       ...   ...  ...     ...       ...   ...    ...\n",
              "16593    0.00       0.00      0.00  0.00  ...    0.00       0.0  2006   0.20\n",
              "16594    0.01       0.00      0.00  0.00  ...    0.00       0.0  2005   0.01\n",
              "16595    0.00       0.00      0.00  0.00  ...    0.79       0.0  2015   0.79\n",
              "16596    0.38       0.00      0.00  0.00  ...    0.00       0.0  2013   0.38\n",
              "16597    0.00       0.00      0.17  0.00  ...    0.00       0.0  1996   0.17\n",
              "\n",
              "[16241 rows x 14 columns]"
            ]
          },
          "metadata": {
            "tags": []
          },
          "execution_count": 40
        }
      ]
    },
    {
      "cell_type": "code",
      "metadata": {
        "id": "_qtjpYQh_Ki9"
      },
      "source": [
        "y.drop(['Sales'], axis=1, inplace=True)\n",
        "# sales column no longer needed"
      ],
      "execution_count": null,
      "outputs": []
    },
    {
      "cell_type": "code",
      "metadata": {
        "colab": {
          "base_uri": "https://localhost:8080/",
          "height": 235
        },
        "id": "HPCnYHL188Jr",
        "outputId": "c69f16ae-c62a-4922-e1fa-0b70d918aabd"
      },
      "source": [
        "# getting sum of different categories\n",
        "# 최근 데이터는 자료 부족으로 일단 제외 (2018, 2020)\n",
        "df_years = y.groupby(\"Year\").sum()[:-2]\n",
        "df_years.tail()"
      ],
      "execution_count": null,
      "outputs": [
        {
          "output_type": "execute_result",
          "data": {
            "text/html": [
              "<div>\n",
              "<style scoped>\n",
              "    .dataframe tbody tr th:only-of-type {\n",
              "        vertical-align: middle;\n",
              "    }\n",
              "\n",
              "    .dataframe tbody tr th {\n",
              "        vertical-align: top;\n",
              "    }\n",
              "\n",
              "    .dataframe thead th {\n",
              "        text-align: right;\n",
              "    }\n",
              "</style>\n",
              "<table border=\"1\" class=\"dataframe\">\n",
              "  <thead>\n",
              "    <tr style=\"text-align: right;\">\n",
              "      <th></th>\n",
              "      <th>Action</th>\n",
              "      <th>Adventure</th>\n",
              "      <th>Fighting</th>\n",
              "      <th>Misc</th>\n",
              "      <th>Platform</th>\n",
              "      <th>Puzzle</th>\n",
              "      <th>Racing</th>\n",
              "      <th>Role-Playing</th>\n",
              "      <th>Shooter</th>\n",
              "      <th>Simulation</th>\n",
              "      <th>Sports</th>\n",
              "      <th>Strategy</th>\n",
              "    </tr>\n",
              "    <tr>\n",
              "      <th>Year</th>\n",
              "      <th></th>\n",
              "      <th></th>\n",
              "      <th></th>\n",
              "      <th></th>\n",
              "      <th></th>\n",
              "      <th></th>\n",
              "      <th></th>\n",
              "      <th></th>\n",
              "      <th></th>\n",
              "      <th></th>\n",
              "      <th></th>\n",
              "      <th></th>\n",
              "    </tr>\n",
              "  </thead>\n",
              "  <tbody>\n",
              "    <tr>\n",
              "      <th>2012</th>\n",
              "      <td>120.78</td>\n",
              "      <td>5.90</td>\n",
              "      <td>9.53</td>\n",
              "      <td>22.93</td>\n",
              "      <td>18.54</td>\n",
              "      <td>1.74</td>\n",
              "      <td>14.43</td>\n",
              "      <td>47.77</td>\n",
              "      <td>72.84</td>\n",
              "      <td>13.37</td>\n",
              "      <td>30.90</td>\n",
              "      <td>3.33</td>\n",
              "    </tr>\n",
              "    <tr>\n",
              "      <th>2013</th>\n",
              "      <td>125.21</td>\n",
              "      <td>6.61</td>\n",
              "      <td>7.23</td>\n",
              "      <td>25.66</td>\n",
              "      <td>25.09</td>\n",
              "      <td>1.00</td>\n",
              "      <td>13.02</td>\n",
              "      <td>30.54</td>\n",
              "      <td>62.73</td>\n",
              "      <td>8.68</td>\n",
              "      <td>41.54</td>\n",
              "      <td>6.32</td>\n",
              "    </tr>\n",
              "    <tr>\n",
              "      <th>2014</th>\n",
              "      <td>99.01</td>\n",
              "      <td>6.09</td>\n",
              "      <td>16.15</td>\n",
              "      <td>23.73</td>\n",
              "      <td>8.87</td>\n",
              "      <td>1.50</td>\n",
              "      <td>16.71</td>\n",
              "      <td>45.88</td>\n",
              "      <td>65.99</td>\n",
              "      <td>5.54</td>\n",
              "      <td>46.64</td>\n",
              "      <td>0.97</td>\n",
              "    </tr>\n",
              "    <tr>\n",
              "      <th>2015</th>\n",
              "      <td>68.25</td>\n",
              "      <td>8.01</td>\n",
              "      <td>7.78</td>\n",
              "      <td>11.66</td>\n",
              "      <td>6.05</td>\n",
              "      <td>0.69</td>\n",
              "      <td>7.92</td>\n",
              "      <td>36.43</td>\n",
              "      <td>66.12</td>\n",
              "      <td>5.61</td>\n",
              "      <td>41.49</td>\n",
              "      <td>1.82</td>\n",
              "    </tr>\n",
              "    <tr>\n",
              "      <th>2016</th>\n",
              "      <td>19.84</td>\n",
              "      <td>1.79</td>\n",
              "      <td>3.85</td>\n",
              "      <td>1.15</td>\n",
              "      <td>2.08</td>\n",
              "      <td>0.00</td>\n",
              "      <td>1.67</td>\n",
              "      <td>6.75</td>\n",
              "      <td>18.17</td>\n",
              "      <td>0.39</td>\n",
              "      <td>14.63</td>\n",
              "      <td>0.52</td>\n",
              "    </tr>\n",
              "  </tbody>\n",
              "</table>\n",
              "</div>"
            ],
            "text/plain": [
              "      Action  Adventure  Fighting   Misc  ...  Shooter  Simulation  Sports  Strategy\n",
              "Year                                      ...                                       \n",
              "2012  120.78       5.90      9.53  22.93  ...    72.84       13.37   30.90      3.33\n",
              "2013  125.21       6.61      7.23  25.66  ...    62.73        8.68   41.54      6.32\n",
              "2014   99.01       6.09     16.15  23.73  ...    65.99        5.54   46.64      0.97\n",
              "2015   68.25       8.01      7.78  11.66  ...    66.12        5.61   41.49      1.82\n",
              "2016   19.84       1.79      3.85   1.15  ...    18.17        0.39   14.63      0.52\n",
              "\n",
              "[5 rows x 12 columns]"
            ]
          },
          "metadata": {
            "tags": []
          },
          "execution_count": 42
        }
      ]
    },
    {
      "cell_type": "code",
      "metadata": {
        "id": "Y3kv7cL4OGaB"
      },
      "source": [
        "# # stacked bar graph on different genre types, 카테고리가 너무 많아서 겹치는 색깔들이 있음\n",
        "# df_years.diff(axis=1).fillna(df_years).astype(df_years.dtypes).plot.bar(stacked=True, figsize=(15,10))"
      ],
      "execution_count": null,
      "outputs": []
    },
    {
      "cell_type": "code",
      "metadata": {
        "colab": {
          "base_uri": "https://localhost:8080/",
          "height": 646
        },
        "id": "_gz8TtpWSYPn",
        "outputId": "4b87d3e4-7d7e-4224-a507-a0fcf28c24fe"
      },
      "source": [
        "# 잘 안 보이기 때문에 6가지 제일 인기있었던 종목들로 추려서 정리\n",
        "df_years6 = df_years[['Action', 'Sports', 'Shooter', 'Platform', 'Racing', 'Role-Playing']]\n",
        "df_years6.plot.bar(stacked=True, figsize=(15,10))"
      ],
      "execution_count": null,
      "outputs": [
        {
          "output_type": "execute_result",
          "data": {
            "text/plain": [
              "<matplotlib.axes._subplots.AxesSubplot at 0x7fc43ef168d0>"
            ]
          },
          "metadata": {
            "tags": []
          },
          "execution_count": 43
        },
        {
          "output_type": "display_data",
          "data": {
            "image/png": "[encoded data removed]",
            "text/plain": [
              "<Figure size 1080x720 with 1 Axes>"
            ]
          },
          "metadata": {
            "tags": []
          }
        }
      ]
    },
    {
      "cell_type": "markdown",
      "metadata": {
        "id": "sSZz5yBY0ywd"
      },
      "source": [
        "> **연도별 게임 장르의 동향을 봤을 때, 2009년까지는 스포츠(Sports) 게임의 선호도가 꽤 높았던 것을 볼 수 있다. 하지만 최근 5년 내의 동향을 보면 액션(Action) 게임과 사격(Shooter) 게임이 오히려 지속적인 관심으로 꾸준한 2-30% 비중을 차지하고 있다. 레이싱(Racing)이나 플랫폼(Platform) 기반 게임 종목들은 추세가 줄어들고 있고, 롤플레이(Role-Playing) 장르 같은 경우는 연도와 상관 없이 꾸준한 인기를 이어가고 있는 것으로 보인다.**"
      ]
    },
    {
      "cell_type": "code",
      "metadata": {
        "id": "AsA18cPmWPSX"
      },
      "source": [
        "# # same graph for publisher - not a very bright idea\n",
        "# # publisher의 종류가 아주 많다는 것을 발견! 동향 파악에 도움 X\n",
        "# y2 = pd.get_dummies(df_chrono.Publisher)\n",
        "# y2['Year'] = df_chrono['Year']\n",
        "# df_years2 = y2.groupby(\"Year\").sum()[:-2]\n",
        "# df_years2.diff(axis=1).fillna(df_years2).astype(df_years2.dtypes).plot.bar(stacked=True, figsize=(15,10))"
      ],
      "execution_count": null,
      "outputs": []
    },
    {
      "cell_type": "code",
      "metadata": {
        "id": "C3_P62QtX2CQ"
      },
      "source": [
        "# # same graph for platform\n",
        "# # 각 플렛폼의 다양한 버전이 다르게 표기되어 있기 때문에 통일하는 것이 필요!\n",
        "# y3 = pd.get_dummies(df_chrono.Platform)\n",
        "# y3['Year'] = df_chrono['Year']\n",
        "# df_years_platform = y3.groupby(\"Year\").sum()[:-2]\n",
        "# df_years_platform.diff(axis=1).fillna(df_years_platform).astype(df_years_platform.dtypes).plot.bar(stacked=True, figsize=(18,10))"
      ],
      "execution_count": null,
      "outputs": []
    },
    {
      "cell_type": "code",
      "metadata": {
        "id": "PY4SA8QWYGPz"
      },
      "source": [
        "# 플렛폼의 회사별 구분\n",
        "\n",
        "y3 = pd.get_dummies(df_chrono.Platform)\n",
        "y3['Year'] = df_chrono['Year']\n",
        "df_years_platform = y3.groupby(\"Year\").sum()[:-2]\n",
        "\n",
        "df_years_platform['Nintendo'] = df_years_platform['Wii'] + df_years_platform['WiiU'] + df_years_platform['N64'] + df_years_platform['GC'] + df_years_platform['NES'] + df_years_platform['3DS'] + df_years_platform['DS'] + df_years_platform['GB'] + df_years_platform['GBA'] + df_years_platform['WS'] + df_years_platform['SNES']\n",
        "df_years_platform.drop(['Wii', 'WiiU', 'N64', 'GC', 'NES', '3DS', 'DS', 'GB', 'GBA', 'WS', 'SNES'], axis=1, inplace=True)\n",
        "\n",
        "df_years_platform['XBox'] = df_years_platform['X360'] + df_years_platform['XOne'] + df_years_platform['XB'] \n",
        "df_years_platform.drop(['XB', 'XOne', 'X360'], axis=1, inplace=True)\n",
        "\n",
        "df_years_platform['PlayStation'] = df_years_platform['PS'] + df_years_platform['PS2'] + df_years_platform['PS3']  + df_years_platform['PS4'] + df_years_platform['PSP'] + df_years_platform['PSV']\n",
        "df_years_platform.drop(['PS', 'PS2', 'PS3', 'PS4', 'PSP', 'PSV'], axis=1, inplace=True)\n",
        "\n",
        "df_years_platform['Sega'] = df_years_platform['SAT'] + df_years_platform['SCD'] \n",
        "df_years_platform.drop(['SAT', 'SCD'], axis=1, inplace=True)\n",
        "\n",
        "df_years_platform['Others'] = df_years_platform['2600'] + df_years_platform['3DO'] + df_years_platform['DC']  + df_years_platform['GEN'] + df_years_platform['GG'] + df_years_platform['NG'] + df_years_platform['TG16']\n",
        "df_years_platform.drop(['2600', '3DO', 'DC', 'GEN', 'GG', 'NG', 'PCFX', 'TG16'], axis=1, inplace=True)\n"
      ],
      "execution_count": null,
      "outputs": []
    },
    {
      "cell_type": "code",
      "metadata": {
        "colab": {
          "base_uri": "https://localhost:8080/",
          "height": 638
        },
        "id": "l_O1BbzzdGZl",
        "outputId": "bda33c56-1dc2-4ea1-86be-18f88d979e89"
      },
      "source": [
        "df_years_platform.plot.bar(stacked=True, figsize=(15,10))"
      ],
      "execution_count": null,
      "outputs": [
        {
          "output_type": "execute_result",
          "data": {
            "text/plain": [
              "<matplotlib.axes._subplots.AxesSubplot at 0x7fc46bc2ffd0>"
            ]
          },
          "metadata": {
            "tags": []
          },
          "execution_count": 15
        },
        {
          "output_type": "display_data",
          "data": {
            "image/png": "[encoded data removed]",
            "text/plain": [
              "<Figure size 1080x720 with 1 Axes>"
            ]
          },
          "metadata": {
            "tags": [],
            "needs_background": "light"
          }
        }
      ]
    },
    {
      "cell_type": "markdown",
      "metadata": {
        "id": "2_zYhJjq0vHN"
      },
      "source": [
        "> **연도별 플랫폼들의 동향을 봤을 때, 2011년까지 거의 50-60%를 차지했던 Nintendo 플랫폼은 최근에 들어서 비교적 줄어들었고, 오히려 PlayStation의 판매율이 상당해졌다고 볼 수 있다. XBox와 PC 게임 또한 2000년대 이후로 꾸준한 인기를 이어가고 있는 것으로 보인다.**"
      ]
    },
    {
      "cell_type": "markdown",
      "metadata": {
        "id": "4NDvTGj_Eaof"
      },
      "source": [
        "---"
      ]
    },
    {
      "cell_type": "markdown",
      "metadata": {
        "id": "ge3CqlNtEVvo"
      },
      "source": [
        "## 3. **출고량이 높은 게임의 특징**"
      ]
    },
    {
      "cell_type": "code",
      "metadata": {
        "id": "8lvHmaODEb1b"
      },
      "source": [
        "df_popular = df\n",
        "df_popular['Total_Sales'] = df_popular['NA_Sales'] + df_popular['EU_Sales'] + df_popular['JP_Sales'] + df_popular['Other_Sales']\n"
      ],
      "execution_count": 10,
      "outputs": []
    },
    {
      "cell_type": "code",
      "metadata": {
        "id": "smQs3fHdTjzh",
        "outputId": "253cbbd9-703a-4abe-d2e0-02e17ee2329e",
        "colab": {
          "base_uri": "https://localhost:8080/",
          "height": 373
        }
      },
      "source": [
        "labels = 'NA Sales', 'EU Sales', 'JP Sales', 'Other Sales'\n",
        "sizes = [df_popular['NA_Sales'].sum(),\tdf_popular['EU_Sales'].sum(),\tdf_popular['JP_Sales'].sum(),\tdf_popular['Other_Sales'].sum()]\n",
        "explode = (0.1, 0, 0, 0)\n",
        "\n",
        "fig1, ax_pie1 = plt.subplots(figsize=(6, 6))\n",
        "ax_pie1.pie(sizes, explode=explode, labels=labels, autopct='%1.1f%%',\n",
        "        shadow=True, startangle=90)\n",
        "ax_pie1.axis('equal')\n",
        "plt.title('Total Sales in Different Locations (since 1980)', fontweight='bold')\n",
        "\n",
        "plt.show()"
      ],
      "execution_count": 22,
      "outputs": [
        {
          "output_type": "display_data",
          "data": {
            "image/png": "[encoded data removed]",
            "text/plain": [
              "<Figure size 432x432 with 1 Axes>"
            ]
          },
          "metadata": {
            "tags": []
          }
        }
      ]
    },
    {
      "cell_type": "code",
      "metadata": {
        "colab": {
          "base_uri": "https://localhost:8080/",
          "height": 204
        },
        "id": "cf1oe5FkFLWg",
        "outputId": "7a40ef84-fea8-4a83-b3c0-4b5ace8a6cc7"
      },
      "source": [
        "# Top 10 most popular games based on total sales amount\n",
        "df_popular50 = df_popular.sort_values(by = 'Total_Sales', ascending=False)[:50]\n",
        "df_popular50.head()"
      ],
      "execution_count": 11,
      "outputs": [
        {
          "output_type": "execute_result",
          "data": {
            "text/html": [
              "<div>\n",
              "<style scoped>\n",
              "    .dataframe tbody tr th:only-of-type {\n",
              "        vertical-align: middle;\n",
              "    }\n",
              "\n",
              "    .dataframe tbody tr th {\n",
              "        vertical-align: top;\n",
              "    }\n",
              "\n",
              "    .dataframe thead th {\n",
              "        text-align: right;\n",
              "    }\n",
              "</style>\n",
              "<table border=\"1\" class=\"dataframe\">\n",
              "  <thead>\n",
              "    <tr style=\"text-align: right;\">\n",
              "      <th></th>\n",
              "      <th>Name</th>\n",
              "      <th>Platform</th>\n",
              "      <th>Year</th>\n",
              "      <th>Genre</th>\n",
              "      <th>Publisher</th>\n",
              "      <th>NA_Sales</th>\n",
              "      <th>EU_Sales</th>\n",
              "      <th>JP_Sales</th>\n",
              "      <th>Other_Sales</th>\n",
              "      <th>Total_Sales</th>\n",
              "    </tr>\n",
              "  </thead>\n",
              "  <tbody>\n",
              "    <tr>\n",
              "      <th>2908</th>\n",
              "      <td>Wii Sports</td>\n",
              "      <td>Wii</td>\n",
              "      <td>2006.0</td>\n",
              "      <td>Sports</td>\n",
              "      <td>Nintendo</td>\n",
              "      <td>41.49</td>\n",
              "      <td>29.02</td>\n",
              "      <td>3.77</td>\n",
              "      <td>8.46</td>\n",
              "      <td>82.74</td>\n",
              "    </tr>\n",
              "    <tr>\n",
              "      <th>4199</th>\n",
              "      <td>Super Mario Bros.</td>\n",
              "      <td>NES</td>\n",
              "      <td>1985.0</td>\n",
              "      <td>Platform</td>\n",
              "      <td>Nintendo</td>\n",
              "      <td>29.08</td>\n",
              "      <td>3.58</td>\n",
              "      <td>6.81</td>\n",
              "      <td>0.77</td>\n",
              "      <td>40.24</td>\n",
              "    </tr>\n",
              "    <tr>\n",
              "      <th>12579</th>\n",
              "      <td>Mario Kart Wii</td>\n",
              "      <td>Wii</td>\n",
              "      <td>2008.0</td>\n",
              "      <td>Racing</td>\n",
              "      <td>Nintendo</td>\n",
              "      <td>15.85</td>\n",
              "      <td>12.88</td>\n",
              "      <td>3.79</td>\n",
              "      <td>3.31</td>\n",
              "      <td>35.83</td>\n",
              "    </tr>\n",
              "    <tr>\n",
              "      <th>3352</th>\n",
              "      <td>Wii Sports Resort</td>\n",
              "      <td>Wii</td>\n",
              "      <td>2009.0</td>\n",
              "      <td>Sports</td>\n",
              "      <td>Nintendo</td>\n",
              "      <td>15.75</td>\n",
              "      <td>11.01</td>\n",
              "      <td>3.28</td>\n",
              "      <td>2.96</td>\n",
              "      <td>33.00</td>\n",
              "    </tr>\n",
              "    <tr>\n",
              "      <th>7829</th>\n",
              "      <td>Pokemon Red/Pokemon Blue</td>\n",
              "      <td>GB</td>\n",
              "      <td>1996.0</td>\n",
              "      <td>Role-Playing</td>\n",
              "      <td>Nintendo</td>\n",
              "      <td>11.27</td>\n",
              "      <td>8.89</td>\n",
              "      <td>10.22</td>\n",
              "      <td>1.00</td>\n",
              "      <td>31.38</td>\n",
              "    </tr>\n",
              "  </tbody>\n",
              "</table>\n",
              "</div>"
            ],
            "text/plain": [
              "                           Name Platform  ...  Other_Sales Total_Sales\n",
              "2908                 Wii Sports      Wii  ...         8.46       82.74\n",
              "4199          Super Mario Bros.      NES  ...         0.77       40.24\n",
              "12579            Mario Kart Wii      Wii  ...         3.31       35.83\n",
              "3352          Wii Sports Resort      Wii  ...         2.96       33.00\n",
              "7829   Pokemon Red/Pokemon Blue       GB  ...         1.00       31.38\n",
              "\n",
              "[5 rows x 10 columns]"
            ]
          },
          "metadata": {
            "tags": []
          },
          "execution_count": 11
        }
      ]
    },
    {
      "cell_type": "code",
      "metadata": {
        "id": "QQ78laccJEME"
      },
      "source": [
        "df_popular.dropna(inplace=True)\n",
        "df_popular['Year'] = df_popular['Year'].apply(toInt)"
      ],
      "execution_count": null,
      "outputs": []
    },
    {
      "cell_type": "code",
      "metadata": {
        "id": "U_Lqc6kW1pCY",
        "colab": {
          "base_uri": "https://localhost:8080/",
          "height": 204
        },
        "outputId": "65679347-b0c6-495a-8ff4-ae1fc9699a3d"
      },
      "source": [
        "df_since2005 = df_popular[df_popular['Year'] > 2005]\n",
        "# Top 50 most popular games based on total sales amount - (since 2005)\n",
        "df_since2005 = df_since2005.sort_values(by = 'Total_Sales', ascending=False)[:50]\n",
        "df_since2005.head()"
      ],
      "execution_count": null,
      "outputs": [
        {
          "output_type": "execute_result",
          "data": {
            "text/html": [
              "<div>\n",
              "<style scoped>\n",
              "    .dataframe tbody tr th:only-of-type {\n",
              "        vertical-align: middle;\n",
              "    }\n",
              "\n",
              "    .dataframe tbody tr th {\n",
              "        vertical-align: top;\n",
              "    }\n",
              "\n",
              "    .dataframe thead th {\n",
              "        text-align: right;\n",
              "    }\n",
              "</style>\n",
              "<table border=\"1\" class=\"dataframe\">\n",
              "  <thead>\n",
              "    <tr style=\"text-align: right;\">\n",
              "      <th></th>\n",
              "      <th>Name</th>\n",
              "      <th>Platform</th>\n",
              "      <th>Year</th>\n",
              "      <th>Genre</th>\n",
              "      <th>Publisher</th>\n",
              "      <th>NA_Sales</th>\n",
              "      <th>EU_Sales</th>\n",
              "      <th>JP_Sales</th>\n",
              "      <th>Other_Sales</th>\n",
              "      <th>Total_Sales</th>\n",
              "    </tr>\n",
              "  </thead>\n",
              "  <tbody>\n",
              "    <tr>\n",
              "      <th>2908</th>\n",
              "      <td>Wii Sports</td>\n",
              "      <td>Wii</td>\n",
              "      <td>2006</td>\n",
              "      <td>Sports</td>\n",
              "      <td>Nintendo</td>\n",
              "      <td>41.49</td>\n",
              "      <td>29.02</td>\n",
              "      <td>3.77</td>\n",
              "      <td>8.46</td>\n",
              "      <td>82.74</td>\n",
              "    </tr>\n",
              "    <tr>\n",
              "      <th>12579</th>\n",
              "      <td>Mario Kart Wii</td>\n",
              "      <td>Wii</td>\n",
              "      <td>2008</td>\n",
              "      <td>Racing</td>\n",
              "      <td>Nintendo</td>\n",
              "      <td>15.85</td>\n",
              "      <td>12.88</td>\n",
              "      <td>3.79</td>\n",
              "      <td>3.31</td>\n",
              "      <td>35.83</td>\n",
              "    </tr>\n",
              "    <tr>\n",
              "      <th>3352</th>\n",
              "      <td>Wii Sports Resort</td>\n",
              "      <td>Wii</td>\n",
              "      <td>2009</td>\n",
              "      <td>Sports</td>\n",
              "      <td>Nintendo</td>\n",
              "      <td>15.75</td>\n",
              "      <td>11.01</td>\n",
              "      <td>3.28</td>\n",
              "      <td>2.96</td>\n",
              "      <td>33.00</td>\n",
              "    </tr>\n",
              "    <tr>\n",
              "      <th>6937</th>\n",
              "      <td>New Super Mario Bros.</td>\n",
              "      <td>DS</td>\n",
              "      <td>2006</td>\n",
              "      <td>Platform</td>\n",
              "      <td>Nintendo</td>\n",
              "      <td>11.38</td>\n",
              "      <td>9.23</td>\n",
              "      <td>6.50</td>\n",
              "      <td>2.90</td>\n",
              "      <td>30.01</td>\n",
              "    </tr>\n",
              "    <tr>\n",
              "      <th>3014</th>\n",
              "      <td>Wii Play</td>\n",
              "      <td>Wii</td>\n",
              "      <td>2006</td>\n",
              "      <td>Misc</td>\n",
              "      <td>Nintendo</td>\n",
              "      <td>14.03</td>\n",
              "      <td>9.20</td>\n",
              "      <td>2.93</td>\n",
              "      <td>2.85</td>\n",
              "      <td>29.01</td>\n",
              "    </tr>\n",
              "  </tbody>\n",
              "</table>\n",
              "</div>"
            ],
            "text/plain": [
              "                        Name Platform  Year  ... JP_Sales Other_Sales  Total_Sales\n",
              "2908              Wii Sports      Wii  2006  ...     3.77        8.46        82.74\n",
              "12579         Mario Kart Wii      Wii  2008  ...     3.79        3.31        35.83\n",
              "3352       Wii Sports Resort      Wii  2009  ...     3.28        2.96        33.00\n",
              "6937   New Super Mario Bros.       DS  2006  ...     6.50        2.90        30.01\n",
              "3014                Wii Play      Wii  2006  ...     2.93        2.85        29.01\n",
              "\n",
              "[5 rows x 10 columns]"
            ]
          },
          "metadata": {
            "tags": []
          },
          "execution_count": 45
        }
      ]
    },
    {
      "cell_type": "markdown",
      "metadata": {
        "id": "u9dRjKb4I4rJ"
      },
      "source": [
        "\n",
        "\n",
        "> 2005년 이후의 데이터를 보면 Platform - Wii 가 매출액 상위 10위 게임 항목 중 7개가 해당하는 것을 발견할 수 있었다. 그렇다면 Wii Platform을 사용하면 무조건 매출액이 높은지, **Wii(Nintendo)의 평균 매출액은 다른 Platform의 매출액보다 높을까**라는 가설을 통계적으로 유의하게 증명해보고 싶었다.\n",
        "\n",
        "\n",
        "\n",
        "> - H0 (귀무가설) : Wii(Nintendo)의 평균 매출액은 다른 Platform의 매출액보다 낮거나 같다.\n",
        "> - HA (대립가설) : Wii의 평균 매출액은 다른 Platform의 매출액보다 높다.\n",
        "\n",
        "\n",
        "\n",
        "> --> 위의 Platform 별로 나눈 데이터프레임(df_years_platform)을 한번 더 사용해서 Platform별로 매출액 리스트를 비교해보기로 했다.\n",
        "\n",
        "\n",
        "\n",
        "\n",
        "\n",
        "\n",
        "\n"
      ]
    },
    {
      "cell_type": "code",
      "metadata": {
        "id": "Ksqq-sB7LNBL"
      },
      "source": [
        "from statsmodels.formula.api import ols\n",
        "from statsmodels.stats.anova import anova_lm"
      ],
      "execution_count": null,
      "outputs": []
    },
    {
      "cell_type": "code",
      "metadata": {
        "id": "WjmPbYbxMFfR",
        "colab": {
          "base_uri": "https://localhost:8080/",
          "height": 269
        },
        "outputId": "0b9942c2-a3ee-4ea9-f902-d88f9f4c1079"
      },
      "source": [
        "data = {'Nintendo': df_years_platform['Nintendo'], 'XBox': df_years_platform['XBox'], 'PlayStation': df_years_platform['PlayStation'], 'PC': df_years_platform['PC']}\n",
        "data = pd.DataFrame(data)\n",
        "data_melt = pd.melt(data.reset_index(), value_vars=['Nintendo', 'XBox', 'PlayStation', 'PC'])\n",
        "data_melt.columns = ['samples', 'value']\n",
        "\n",
        "data.boxplot(grid = False);\n"
      ],
      "execution_count": null,
      "outputs": [
        {
          "output_type": "display_data",
          "data": {
            "image/png": "[encoded data removed]",
            "text/plain": [
              "<Figure size 432x288 with 1 Axes>"
            ]
          },
          "metadata": {
            "tags": []
          }
        }
      ]
    },
    {
      "cell_type": "code",
      "metadata": {
        "id": "bpOhqfdWMFYi",
        "colab": {
          "base_uri": "https://localhost:8080/"
        },
        "outputId": "1a227437-422b-4680-a6d3-576e1548f2ce"
      },
      "source": [
        "import scipy.stats as stats\n",
        "fvalue, pvalue = stats.f_oneway(data['Nintendo'], data['XBox'], data['PlayStation'], data['PC'])\n",
        "print(fvalue, pvalue)"
      ],
      "execution_count": null,
      "outputs": [
        {
          "output_type": "stream",
          "text": [
            "10.737934405277947 2.0622290579586378e-06\n"
          ],
          "name": "stdout"
        }
      ]
    },
    {
      "cell_type": "code",
      "metadata": {
        "id": "SpT72xJZN81c",
        "colab": {
          "base_uri": "https://localhost:8080/"
        },
        "outputId": "99d5068f-4ccd-412a-ca03-0efa404937de"
      },
      "source": [
        "! pip install bioinfokit\n"
      ],
      "execution_count": null,
      "outputs": [
        {
          "output_type": "stream",
          "text": [
            "Collecting bioinfokit\n",
            "  Downloading bioinfokit-2.0.4.tar.gz (82 kB)\n",
            "\u001b[?25l\r\u001b[K     |████                            | 10 kB 20.8 MB/s eta 0:00:01\r\u001b[K     |████████                        | 20 kB 25.6 MB/s eta 0:00:01\r\u001b[K     |████████████                    | 30 kB 17.0 MB/s eta 0:00:01\r\u001b[K     |███████████████▉                | 40 kB 12.2 MB/s eta 0:00:01\r\u001b[K     |███████████████████▉            | 51 kB 5.4 MB/s eta 0:00:01\r\u001b[K     |███████████████████████▉        | 61 kB 5.6 MB/s eta 0:00:01\r\u001b[K     |███████████████████████████▊    | 71 kB 5.4 MB/s eta 0:00:01\r\u001b[K     |███████████████████████████████▊| 81 kB 6.0 MB/s eta 0:00:01\r\u001b[K     |████████████████████████████████| 82 kB 611 kB/s \n",
            "\u001b[?25hRequirement already satisfied: pandas in /usr/local/lib/python3.7/dist-packages (from bioinfokit) (1.1.5)\n",
            "Requirement already satisfied: numpy in /usr/local/lib/python3.7/dist-packages (from bioinfokit) (1.19.5)\n",
            "Requirement already satisfied: matplotlib in /usr/local/lib/python3.7/dist-packages (from bioinfokit) (3.2.2)\n",
            "Requirement already satisfied: scipy in /usr/local/lib/python3.7/dist-packages (from bioinfokit) (1.4.1)\n",
            "Requirement already satisfied: scikit-learn in /usr/local/lib/python3.7/dist-packages (from bioinfokit) (0.22.2.post1)\n",
            "Requirement already satisfied: seaborn in /usr/local/lib/python3.7/dist-packages (from bioinfokit) (0.11.1)\n",
            "Requirement already satisfied: matplotlib-venn in /usr/local/lib/python3.7/dist-packages (from bioinfokit) (0.11.6)\n",
            "Requirement already satisfied: tabulate in /usr/local/lib/python3.7/dist-packages (from bioinfokit) (0.8.9)\n",
            "Requirement already satisfied: statsmodels in /usr/local/lib/python3.7/dist-packages (from bioinfokit) (0.10.2)\n",
            "Collecting textwrap3\n",
            "  Downloading textwrap3-0.9.2-py2.py3-none-any.whl (12 kB)\n",
            "Collecting adjustText\n",
            "  Downloading adjustText-0.7.3.tar.gz (7.5 kB)\n",
            "Requirement already satisfied: cycler>=0.10 in /usr/local/lib/python3.7/dist-packages (from matplotlib->bioinfokit) (0.10.0)\n",
            "Requirement already satisfied: python-dateutil>=2.1 in /usr/local/lib/python3.7/dist-packages (from matplotlib->bioinfokit) (2.8.1)\n",
            "Requirement already satisfied: pyparsing!=2.0.4,!=2.1.2,!=2.1.6,>=2.0.1 in /usr/local/lib/python3.7/dist-packages (from matplotlib->bioinfokit) (2.4.7)\n",
            "Requirement already satisfied: kiwisolver>=1.0.1 in /usr/local/lib/python3.7/dist-packages (from matplotlib->bioinfokit) (1.3.1)\n",
            "Requirement already satisfied: six in /usr/local/lib/python3.7/dist-packages (from cycler>=0.10->matplotlib->bioinfokit) (1.15.0)\n",
            "Requirement already satisfied: pytz>=2017.2 in /usr/local/lib/python3.7/dist-packages (from pandas->bioinfokit) (2018.9)\n",
            "Requirement already satisfied: joblib>=0.11 in /usr/local/lib/python3.7/dist-packages (from scikit-learn->bioinfokit) (1.0.1)\n",
            "Requirement already satisfied: patsy>=0.4.0 in /usr/local/lib/python3.7/dist-packages (from statsmodels->bioinfokit) (0.5.1)\n",
            "Building wheels for collected packages: bioinfokit, adjustText\n",
            "  Building wheel for bioinfokit (setup.py) ... \u001b[?25l\u001b[?25hdone\n",
            "  Created wheel for bioinfokit: filename=bioinfokit-2.0.4-py3-none-any.whl size=56009 sha256=e2d5d639bc72d19d5d84ac0f1996c9a3d44bdac4aebe9486497545554f8abdc6\n",
            "  Stored in directory: /root/.cache/pip/wheels/5d/f0/f9/3cfa74f39676f6745eeb99be64826173241a47808d2cb2f30f\n",
            "  Building wheel for adjustText (setup.py) ... \u001b[?25l\u001b[?25hdone\n",
            "  Created wheel for adjustText: filename=adjustText-0.7.3-py3-none-any.whl size=7095 sha256=2b428a7cbb9210293530626357f4846f74a0d0aa92ad40abbcdb30232e07ef4c\n",
            "  Stored in directory: /root/.cache/pip/wheels/2f/98/32/afbf902d8f040fadfdf0a44357e4ab750afe165d873bf5893d\n",
            "Successfully built bioinfokit adjustText\n",
            "Installing collected packages: textwrap3, adjustText, bioinfokit\n",
            "Successfully installed adjustText-0.7.3 bioinfokit-2.0.4 textwrap3-0.9.2\n"
          ],
          "name": "stdout"
        }
      ]
    },
    {
      "cell_type": "code",
      "metadata": {
        "id": "uxzhQEViMaUa",
        "colab": {
          "base_uri": "https://localhost:8080/",
          "height": 111
        },
        "outputId": "48dcb06b-1cbc-4d37-81cc-83684a51dcfe"
      },
      "source": [
        "import statsmodels.api as sm\n",
        "from statsmodels.formula.api import ols\n",
        "\n",
        "from bioinfokit.analys import stat\n",
        "res = stat()\n",
        "res.anova_stat(df=data_melt, res_var='value', anova_model='value ~ C(samples)')\n",
        "res.anova_summary\n"
      ],
      "execution_count": null,
      "outputs": [
        {
          "output_type": "execute_result",
          "data": {
            "text/html": [
              "<div>\n",
              "<style scoped>\n",
              "    .dataframe tbody tr th:only-of-type {\n",
              "        vertical-align: middle;\n",
              "    }\n",
              "\n",
              "    .dataframe tbody tr th {\n",
              "        vertical-align: top;\n",
              "    }\n",
              "\n",
              "    .dataframe thead th {\n",
              "        text-align: right;\n",
              "    }\n",
              "</style>\n",
              "<table border=\"1\" class=\"dataframe\">\n",
              "  <thead>\n",
              "    <tr style=\"text-align: right;\">\n",
              "      <th></th>\n",
              "      <th>df</th>\n",
              "      <th>sum_sq</th>\n",
              "      <th>mean_sq</th>\n",
              "      <th>F</th>\n",
              "      <th>PR(&gt;F)</th>\n",
              "    </tr>\n",
              "  </thead>\n",
              "  <tbody>\n",
              "    <tr>\n",
              "      <th>C(samples)</th>\n",
              "      <td>3.0</td>\n",
              "      <td>6.339985e+05</td>\n",
              "      <td>211332.835586</td>\n",
              "      <td>10.737934</td>\n",
              "      <td>0.000002</td>\n",
              "    </tr>\n",
              "    <tr>\n",
              "      <th>Residual</th>\n",
              "      <td>144.0</td>\n",
              "      <td>2.834058e+06</td>\n",
              "      <td>19680.957958</td>\n",
              "      <td>NaN</td>\n",
              "      <td>NaN</td>\n",
              "    </tr>\n",
              "  </tbody>\n",
              "</table>\n",
              "</div>"
            ],
            "text/plain": [
              "               df        sum_sq        mean_sq          F    PR(>F)\n",
              "C(samples)    3.0  6.339985e+05  211332.835586  10.737934  0.000002\n",
              "Residual    144.0  2.834058e+06   19680.957958        NaN       NaN"
            ]
          },
          "metadata": {
            "tags": []
          },
          "execution_count": 49
        }
      ]
    },
    {
      "cell_type": "markdown",
      "metadata": {
        "id": "RxAcGihJO9gj"
      },
      "source": [
        "\n",
        "\n",
        "> p value가 0.5보다 한참 작게 나오므로 귀무가설을 기각하고 대립가설을 채택하게 되어 - **네 가지 Platform의 판매량의 평균은 동일하지 않다고 볼 수 있다**. 다만 Nintendo의 평균이 확연히 높은지는 위의 boxplot을 봤을 때 확실치 않다. 높은 수치를 가진 outlier가 많기 때문에 Nintendo와 Playstation을 비교해보는 two-sample one-tailed test를 진행하였다.\n",
        "\n"
      ]
    },
    {
      "cell_type": "markdown",
      "metadata": {
        "id": "68WVXoZnSArF"
      },
      "source": [
        "\n",
        "\n",
        "> Two-sample One-tailed test를 위한 가설 : **평균 Nintendo 판매량이 평균 PlayStation 판매량보다 크다**\n",
        "\n",
        "\n",
        "\n",
        "\n"
      ]
    },
    {
      "cell_type": "code",
      "metadata": {
        "id": "Ouwh1jQbSvbc",
        "colab": {
          "base_uri": "https://localhost:8080/",
          "height": 344
        },
        "outputId": "6a22a7e7-4ec8-4299-c6c8-ae684dacaf0b"
      },
      "source": [
        "!pip install scipy --upgrade"
      ],
      "execution_count": null,
      "outputs": [
        {
          "output_type": "stream",
          "text": [
            "Requirement already satisfied: scipy in /usr/local/lib/python3.7/dist-packages (1.4.1)\n",
            "Collecting scipy\n",
            "  Downloading scipy-1.7.0-cp37-cp37m-manylinux_2_5_x86_64.manylinux1_x86_64.whl (28.5 MB)\n",
            "\u001b[K     |████████████████████████████████| 28.5 MB 26 kB/s \n",
            "\u001b[?25hRequirement already satisfied: numpy<1.23.0,>=1.16.5 in /usr/local/lib/python3.7/dist-packages (from scipy) (1.19.5)\n",
            "Installing collected packages: scipy\n",
            "  Attempting uninstall: scipy\n",
            "    Found existing installation: scipy 1.4.1\n",
            "    Uninstalling scipy-1.4.1:\n",
            "      Successfully uninstalled scipy-1.4.1\n",
            "\u001b[31mERROR: pip's dependency resolver does not currently take into account all the packages that are installed. This behaviour is the source of the following dependency conflicts.\n",
            "albumentations 0.1.12 requires imgaug<0.2.7,>=0.2.5, but you have imgaug 0.2.9 which is incompatible.\u001b[0m\n",
            "Successfully installed scipy-1.7.0\n"
          ],
          "name": "stdout"
        },
        {
          "output_type": "display_data",
          "data": {
            "application/vnd.colab-display-data+json": {
              "pip_warning": {
                "packages": [
                  "scipy"
                ]
              }
            }
          },
          "metadata": {
            "tags": []
          }
        }
      ]
    },
    {
      "cell_type": "code",
      "metadata": {
        "id": "lhNdSeo9MFMz"
      },
      "source": [
        "import scipy.stats as stats\n",
        "\n",
        "stats4, pv4 = stats.ttest_ind(df_years_platform['Nintendo'], df_years_platform['PlayStation'], alternative='greater')\n",
        "stats5, pv5 = stats.ttest_ind(df_years_platform['Nintendo'], df_years_platform['PlayStation'], alternative='less')"
      ],
      "execution_count": null,
      "outputs": []
    },
    {
      "cell_type": "code",
      "metadata": {
        "id": "ewBI5PWJSZv9",
        "colab": {
          "base_uri": "https://localhost:8080/"
        },
        "outputId": "97f66e6b-b6ab-47b7-a8f0-7f7291692345"
      },
      "source": [
        "pv4, pv5"
      ],
      "execution_count": null,
      "outputs": [
        {
          "output_type": "execute_result",
          "data": {
            "text/plain": [
              "(0.5990775995222363, 0.4009224004777637)"
            ]
          },
          "metadata": {
            "tags": []
          },
          "execution_count": 25
        }
      ]
    },
    {
      "cell_type": "code",
      "metadata": {
        "id": "rCmgPzdeSZlR",
        "colab": {
          "base_uri": "https://localhost:8080/"
        },
        "outputId": "641b2f47-6c21-4ec7-f171-1d4cc3ad40f1"
      },
      "source": [
        "alpha = 0.05\n",
        "\n",
        "if pv4 < alpha:\n",
        "    print('Nintendo sales mean is higher')\n",
        "elif pv5 < alpha:\n",
        "    print('PlayStation sales mean is higher')\n",
        "else:\n",
        "    print('Cannot determine significant difference')\n"
      ],
      "execution_count": null,
      "outputs": [
        {
          "output_type": "stream",
          "text": [
            "Cannot determine significant difference\n"
          ],
          "name": "stdout"
        }
      ]
    },
    {
      "cell_type": "markdown",
      "metadata": {
        "id": "7d9RJql_q8WH"
      },
      "source": [
        "\n",
        "\n",
        "> One tailed test를 통해 두 샘플을 비교했을 때, Nintendo 또는 PlayStation의 평균이 어느 하나보다 크다는 것을 유의미하게 확인하지 못했다. 양쪽 테스트 모두 p value가 0.1보다 크게 나왔기 때문에 위 **인기게임 순위에서 나왔던 Wii 항목들은 outlier였던 것으로 판단이 된다**.\n",
        "\n",
        "\n"
      ]
    },
    {
      "cell_type": "code",
      "metadata": {
        "colab": {
          "base_uri": "https://localhost:8080/",
          "height": 204
        },
        "id": "OSsScR5CNPZ4",
        "outputId": "eccc8118-c838-4a98-eeaa-5249a46aac0a"
      },
      "source": [
        "df_since2010 = df_popular[df_popular['Year'] > 2010]\n",
        "# Top 50 most popular games based on total sales amount - with recent data (since 2010)\n",
        "df_since2010 = df_since2010.sort_values(by = 'Total_Sales', ascending=False)[:50]\n",
        "df_since2010.head()"
      ],
      "execution_count": 20,
      "outputs": [
        {
          "output_type": "execute_result",
          "data": {
            "text/html": [
              "<div>\n",
              "<style scoped>\n",
              "    .dataframe tbody tr th:only-of-type {\n",
              "        vertical-align: middle;\n",
              "    }\n",
              "\n",
              "    .dataframe tbody tr th {\n",
              "        vertical-align: top;\n",
              "    }\n",
              "\n",
              "    .dataframe thead th {\n",
              "        text-align: right;\n",
              "    }\n",
              "</style>\n",
              "<table border=\"1\" class=\"dataframe\">\n",
              "  <thead>\n",
              "    <tr style=\"text-align: right;\">\n",
              "      <th></th>\n",
              "      <th>Name</th>\n",
              "      <th>Platform</th>\n",
              "      <th>Year</th>\n",
              "      <th>Genre</th>\n",
              "      <th>Publisher</th>\n",
              "      <th>NA_Sales</th>\n",
              "      <th>EU_Sales</th>\n",
              "      <th>JP_Sales</th>\n",
              "      <th>Other_Sales</th>\n",
              "      <th>Total_Sales</th>\n",
              "    </tr>\n",
              "  </thead>\n",
              "  <tbody>\n",
              "    <tr>\n",
              "      <th>3483</th>\n",
              "      <td>Grand Theft Auto V</td>\n",
              "      <td>PS3</td>\n",
              "      <td>2013.0</td>\n",
              "      <td>Action</td>\n",
              "      <td>Take-Two Interactive</td>\n",
              "      <td>7.01</td>\n",
              "      <td>9.27</td>\n",
              "      <td>0.97</td>\n",
              "      <td>4.14</td>\n",
              "      <td>21.39</td>\n",
              "    </tr>\n",
              "    <tr>\n",
              "      <th>10913</th>\n",
              "      <td>Grand Theft Auto V</td>\n",
              "      <td>X360</td>\n",
              "      <td>2013.0</td>\n",
              "      <td>Action</td>\n",
              "      <td>Take-Two Interactive</td>\n",
              "      <td>9.63</td>\n",
              "      <td>5.31</td>\n",
              "      <td>0.06</td>\n",
              "      <td>1.38</td>\n",
              "      <td>16.38</td>\n",
              "    </tr>\n",
              "    <tr>\n",
              "      <th>2809</th>\n",
              "      <td>Call of Duty: Modern Warfare 3</td>\n",
              "      <td>X360</td>\n",
              "      <td>2011.0</td>\n",
              "      <td>Shooter</td>\n",
              "      <td>Activision</td>\n",
              "      <td>9.03</td>\n",
              "      <td>4.28</td>\n",
              "      <td>0.13</td>\n",
              "      <td>1.32</td>\n",
              "      <td>14.76</td>\n",
              "    </tr>\n",
              "    <tr>\n",
              "      <th>1971</th>\n",
              "      <td>Pokemon X/Pokemon Y</td>\n",
              "      <td>3DS</td>\n",
              "      <td>2013.0</td>\n",
              "      <td>NaN</td>\n",
              "      <td>Nintendo</td>\n",
              "      <td>5.17</td>\n",
              "      <td>4.05</td>\n",
              "      <td>4.34</td>\n",
              "      <td>0.79</td>\n",
              "      <td>14.35</td>\n",
              "    </tr>\n",
              "    <tr>\n",
              "      <th>9070</th>\n",
              "      <td>Call of Duty: Black Ops 3</td>\n",
              "      <td>PS4</td>\n",
              "      <td>2015.0</td>\n",
              "      <td>Shooter</td>\n",
              "      <td>Activision</td>\n",
              "      <td>5.77</td>\n",
              "      <td>5.81</td>\n",
              "      <td>0.35</td>\n",
              "      <td>2.31</td>\n",
              "      <td>14.24</td>\n",
              "    </tr>\n",
              "  </tbody>\n",
              "</table>\n",
              "</div>"
            ],
            "text/plain": [
              "                                 Name Platform  ...  Other_Sales Total_Sales\n",
              "3483               Grand Theft Auto V      PS3  ...         4.14       21.39\n",
              "10913              Grand Theft Auto V     X360  ...         1.38       16.38\n",
              "2809   Call of Duty: Modern Warfare 3     X360  ...         1.32       14.76\n",
              "1971              Pokemon X/Pokemon Y      3DS  ...         0.79       14.35\n",
              "9070        Call of Duty: Black Ops 3      PS4  ...         2.31       14.24\n",
              "\n",
              "[5 rows x 10 columns]"
            ]
          },
          "metadata": {
            "tags": []
          },
          "execution_count": 20
        }
      ]
    },
    {
      "cell_type": "markdown",
      "metadata": {
        "id": "JPhSJeKHsedd"
      },
      "source": [
        "\n",
        "> **최신 데이터(2010 이후)의 인기 게임 순위들을 정리했을 때, 오히려 PlayStation과 XBox 플랫폼의 게임들이 많은 것을 볼 수 있다** - 앞으로 게임을 새롭게 개발해야 한다면 플랫폼으로 PlayStation을 선택하는 게 바람직하다.\n"
      ]
    },
    {
      "cell_type": "code",
      "metadata": {
        "id": "K9VpcZqiUBY5",
        "outputId": "269f2b62-5689-4347-91bb-2509e1740177",
        "colab": {
          "base_uri": "https://localhost:8080/",
          "height": 373
        }
      },
      "source": [
        "labels = 'NA Sales', 'EU Sales', 'JP Sales', 'Other Sales'\n",
        "sizes = [df_since2010['NA_Sales'].sum(),\tdf_since2010['EU_Sales'].sum(),\tdf_since2010['JP_Sales'].sum(),\tdf_since2010['Other_Sales'].sum()]\n",
        "explode = (0.1, 0, 0, 0)\n",
        "\n",
        "fig1, ax_pie1 = plt.subplots(figsize=(6, 6))\n",
        "ax_pie1.pie(sizes, explode=explode, labels=labels, autopct='%1.1f%%',\n",
        "        shadow=True, startangle=90)\n",
        "ax_pie1.axis('equal')\n",
        "plt.title('Total Sales in Different Locations (since 2010)', fontweight='bold')\n",
        "\n",
        "plt.show()"
      ],
      "execution_count": 21,
      "outputs": [
        {
          "output_type": "display_data",
          "data": {
            "image/png": "[encoded data removed]",
            "text/plain": [
              "<Figure size 432x432 with 1 Axes>"
            ]
          },
          "metadata": {
            "tags": []
          }
        }
      ]
    },
    {
      "cell_type": "markdown",
      "metadata": {
        "id": "ztXc5UiotkuM"
      },
      "source": [
        "\n",
        "\n",
        "> 새로운 방향으로 데이터를 보기 위해서 **기존의 데이터(df)로 PCA를 통해 Cluster Analysis**를 해보았다.\n",
        "\n"
      ]
    },
    {
      "cell_type": "code",
      "metadata": {
        "id": "qbiQg_vvwm1D"
      },
      "source": [
        "df_pca = df.drop(['Name', 'Publisher'], axis=1)"
      ],
      "execution_count": null,
      "outputs": []
    },
    {
      "cell_type": "code",
      "metadata": {
        "id": "vIIVLPTfsa1m",
        "colab": {
          "base_uri": "https://localhost:8080/",
          "height": 419
        },
        "outputId": "45d8cf80-17b2-4530-9194-dccdd3db538b"
      },
      "source": [
        "genre = df_pca['Genre']\n",
        "platform = df_pca['Platform']\n",
        "\n",
        "df_pca.drop(['Genre', 'Platform'], axis=1, inplace=True)\n",
        "df_pca"
      ],
      "execution_count": null,
      "outputs": [
        {
          "output_type": "execute_result",
          "data": {
            "text/html": [
              "<div>\n",
              "<style scoped>\n",
              "    .dataframe tbody tr th:only-of-type {\n",
              "        vertical-align: middle;\n",
              "    }\n",
              "\n",
              "    .dataframe tbody tr th {\n",
              "        vertical-align: top;\n",
              "    }\n",
              "\n",
              "    .dataframe thead th {\n",
              "        text-align: right;\n",
              "    }\n",
              "</style>\n",
              "<table border=\"1\" class=\"dataframe\">\n",
              "  <thead>\n",
              "    <tr style=\"text-align: right;\">\n",
              "      <th></th>\n",
              "      <th>Year</th>\n",
              "      <th>NA_Sales</th>\n",
              "      <th>EU_Sales</th>\n",
              "      <th>JP_Sales</th>\n",
              "      <th>Other_Sales</th>\n",
              "    </tr>\n",
              "  </thead>\n",
              "  <tbody>\n",
              "    <tr>\n",
              "      <th>0</th>\n",
              "      <td>2008.0</td>\n",
              "      <td>0.04</td>\n",
              "      <td>0.00</td>\n",
              "      <td>0.00</td>\n",
              "      <td>0.00</td>\n",
              "    </tr>\n",
              "    <tr>\n",
              "      <th>1</th>\n",
              "      <td>2009.0</td>\n",
              "      <td>0.17</td>\n",
              "      <td>0.00</td>\n",
              "      <td>0.00</td>\n",
              "      <td>0.01</td>\n",
              "    </tr>\n",
              "    <tr>\n",
              "      <th>2</th>\n",
              "      <td>2010.0</td>\n",
              "      <td>0.00</td>\n",
              "      <td>0.00</td>\n",
              "      <td>0.02</td>\n",
              "      <td>0.00</td>\n",
              "    </tr>\n",
              "    <tr>\n",
              "      <th>3</th>\n",
              "      <td>2010.0</td>\n",
              "      <td>0.04</td>\n",
              "      <td>0.00</td>\n",
              "      <td>0.00</td>\n",
              "      <td>0.00</td>\n",
              "    </tr>\n",
              "    <tr>\n",
              "      <th>4</th>\n",
              "      <td>2010.0</td>\n",
              "      <td>0.12</td>\n",
              "      <td>0.09</td>\n",
              "      <td>0.00</td>\n",
              "      <td>0.04</td>\n",
              "    </tr>\n",
              "    <tr>\n",
              "      <th>...</th>\n",
              "      <td>...</td>\n",
              "      <td>...</td>\n",
              "      <td>...</td>\n",
              "      <td>...</td>\n",
              "      <td>...</td>\n",
              "    </tr>\n",
              "    <tr>\n",
              "      <th>16593</th>\n",
              "      <td>2006.0</td>\n",
              "      <td>0.15</td>\n",
              "      <td>0.04</td>\n",
              "      <td>0.00</td>\n",
              "      <td>0.01</td>\n",
              "    </tr>\n",
              "    <tr>\n",
              "      <th>16594</th>\n",
              "      <td>2005.0</td>\n",
              "      <td>0.01</td>\n",
              "      <td>0.00</td>\n",
              "      <td>0.00</td>\n",
              "      <td>0.00</td>\n",
              "    </tr>\n",
              "    <tr>\n",
              "      <th>16595</th>\n",
              "      <td>2015.0</td>\n",
              "      <td>0.44</td>\n",
              "      <td>0.19</td>\n",
              "      <td>0.03</td>\n",
              "      <td>0.13</td>\n",
              "    </tr>\n",
              "    <tr>\n",
              "      <th>16596</th>\n",
              "      <td>2013.0</td>\n",
              "      <td>0.05</td>\n",
              "      <td>0.05</td>\n",
              "      <td>0.25</td>\n",
              "      <td>0.03</td>\n",
              "    </tr>\n",
              "    <tr>\n",
              "      <th>16597</th>\n",
              "      <td>1996.0</td>\n",
              "      <td>0.00</td>\n",
              "      <td>0.00</td>\n",
              "      <td>0.16</td>\n",
              "      <td>0.01</td>\n",
              "    </tr>\n",
              "  </tbody>\n",
              "</table>\n",
              "<p>16598 rows × 5 columns</p>\n",
              "</div>"
            ],
            "text/plain": [
              "         Year  NA_Sales  EU_Sales  JP_Sales  Other_Sales\n",
              "0      2008.0      0.04      0.00      0.00         0.00\n",
              "1      2009.0      0.17      0.00      0.00         0.01\n",
              "2      2010.0      0.00      0.00      0.02         0.00\n",
              "3      2010.0      0.04      0.00      0.00         0.00\n",
              "4      2010.0      0.12      0.09      0.00         0.04\n",
              "...       ...       ...       ...       ...          ...\n",
              "16593  2006.0      0.15      0.04      0.00         0.01\n",
              "16594  2005.0      0.01      0.00      0.00         0.00\n",
              "16595  2015.0      0.44      0.19      0.03         0.13\n",
              "16596  2013.0      0.05      0.05      0.25         0.03\n",
              "16597  1996.0      0.00      0.00      0.16         0.01\n",
              "\n",
              "[16598 rows x 5 columns]"
            ]
          },
          "metadata": {
            "tags": []
          },
          "execution_count": 57
        }
      ]
    },
    {
      "cell_type": "code",
      "metadata": {
        "id": "tokGZicOxqOZ"
      },
      "source": [
        "df_pca['Year'] = df_pca['Year'].apply(toInt)"
      ],
      "execution_count": null,
      "outputs": []
    },
    {
      "cell_type": "code",
      "metadata": {
        "id": "z05djLH0wZyn"
      },
      "source": [
        "import pandas as pd\n",
        "from sklearn.preprocessing import StandardScaler\n",
        "\n",
        "scaler = StandardScaler()\n",
        "features = pd.DataFrame(scaler.fit_transform(df_pca), columns=df_pca.columns)"
      ],
      "execution_count": null,
      "outputs": []
    },
    {
      "cell_type": "code",
      "metadata": {
        "id": "jGKt0RcTxdhy"
      },
      "source": [
        "df_pca.dropna(inplace=True)"
      ],
      "execution_count": null,
      "outputs": []
    },
    {
      "cell_type": "code",
      "metadata": {
        "id": "bYv1OkZQxQVT"
      },
      "source": [
        "import numpy as np\n",
        "from sklearn.decomposition import PCA\n",
        "\n",
        "pca = PCA(n_components=2)\n",
        "extracted_df = pd.DataFrame(pca.fit_transform(features), columns=['PC1', 'PC2'])\n",
        "# extracted_df['genre'] = genre\n",
        "extracted_df['platform'] = platform\n"
      ],
      "execution_count": null,
      "outputs": []
    },
    {
      "cell_type": "code",
      "metadata": {
        "id": "CWCl5wQdxyjM",
        "colab": {
          "base_uri": "https://localhost:8080/",
          "height": 302
        },
        "outputId": "90577386-09d8-44f7-a307-5fda92fd49e1"
      },
      "source": [
        "sns.scatterplot(data=extracted_df, x='PC1', y='PC2', hue=genre)"
      ],
      "execution_count": null,
      "outputs": [
        {
          "output_type": "execute_result",
          "data": {
            "text/plain": [
              "<matplotlib.axes._subplots.AxesSubplot at 0x7fc4376367d0>"
            ]
          },
          "metadata": {
            "tags": []
          },
          "execution_count": 83
        },
        {
          "output_type": "display_data",
          "data": {
            "image/png": "[encoded data removed]",
            "text/plain": [
              "<Figure size 432x288 with 1 Axes>"
            ]
          },
          "metadata": {
            "tags": []
          }
        }
      ]
    },
    {
      "cell_type": "markdown",
      "metadata": {
        "id": "plWXoNrZ0n9c"
      },
      "source": [
        "**pretty graph :>**"
      ]
    }
  ]
}